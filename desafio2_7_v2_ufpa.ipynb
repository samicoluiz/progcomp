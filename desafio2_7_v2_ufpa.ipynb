{
 "cells": [
  {
   "cell_type": "code",
   "execution_count": 22,
   "metadata": {},
   "outputs": [
    {
     "name": "stdout",
     "output_type": "stream",
     "text": [
      "2\n",
      "[4, 14]\n"
     ]
    }
   ],
   "source": [
    "def anterior(lote: list, terreno: int) -> int:\n",
    "    vizinho_anterior = ((terreno-1) % len(lote))\n",
    "    return vizinho_anterior\n",
    "\n",
    "def seguinte(lote: list, terreno: int) -> int:    \n",
    "    vizinho_seguinte = ((terreno+1) % len(lote))\n",
    "    return vizinho_seguinte\n",
    "\n",
    "def vizinho_alvo(lote: list[int], terreno_alvo: int) -> tuple[int]:\n",
    "    menor_vizinho = min(anterior(lote, terreno_alvo), seguinte(lote, terreno_alvo))\n",
    "    return menor_vizinho\n",
    "\n",
    "def terreno_alvo(lote: list[int]) -> tuple[int]:\n",
    "    valor_alvo = min((max(anterior(lote, i), i)) for i in range(len(lote)))\n",
    "    return valor_alvo\n",
    "\n",
    "lote = [2, 4, 6, 8]\n",
    "terreno_alvo = terreno_alvo(lote)\n",
    "vizinho_alvo = vizinho_alvo(lote, terreno_alvo)\n",
    "print(lote.pop(terreno_alvo-1))\n",
    "novo_terreno = lote.pop(terreno_alvo) + (lote.pop(vizinho_alvo+1) if vizinho_alvo > terreno_alvo else lote.pop(vizinho_alvo+1))\n",
    "lote.insert(terreno_alvo, novo_terreno)\n",
    "print(lote)"
   ]
  }
 ],
 "metadata": {
  "kernelspec": {
   "display_name": "Python 3.9.7 ('base')",
   "language": "python",
   "name": "python3"
  },
  "language_info": {
   "codemirror_mode": {
    "name": "ipython",
    "version": 3
   },
   "file_extension": ".py",
   "mimetype": "text/x-python",
   "name": "python",
   "nbconvert_exporter": "python",
   "pygments_lexer": "ipython3",
   "version": "3.9.7"
  },
  "orig_nbformat": 4,
  "vscode": {
   "interpreter": {
    "hash": "88279d2366fe020547cde40dd65aa0e3aa662a6ec1f3ca12d88834876c85e1a6"
   }
  }
 },
 "nbformat": 4,
 "nbformat_minor": 2
}
