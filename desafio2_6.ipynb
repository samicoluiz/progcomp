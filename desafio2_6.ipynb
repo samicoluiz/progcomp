{
 "cells": [
  {
   "cell_type": "code",
   "execution_count": 10,
   "metadata": {
    "collapsed": true
   },
   "outputs": [],
   "source": [
    "import numpy as np\n",
    "\n",
    "\n",
    "# Linhas L\n",
    "# Colunas C\n",
    "# Índice começa no 1\n",
    "# Numeração das cadeiras: (i-1) * C + j\n",
    "# Mudanças: sempre duas, ou duas linhas, ou duas colunas, uma troca de lugar com a outra\n",
    "# É preciso fazer o sort em uma linha, através da manipulação das colunas, depois se organiza a ordem das linhas\n",
    "\n",
    "\n",
    "def check_sorted(vetor: np.array) -> bool:\n",
    "    return np.array_equal(vetor, np.sort(vetor))\n",
    "\n",
    "\n",
    "def array_canonico(l: int, c: int) -> np.array:\n",
    "    array_teste = np.reshape(np.array(np.arange(total_de_numeros)), (l, c))\n",
    "    return array_teste\n",
    "\n",
    "\n",
    "def intercambiar_colunas(vetor: np.array, coluna1: int, coluna2: int) -> np.array:\n",
    "    vetor[:, [coluna1, coluna2]] = vetor[:, [coluna2, coluna1]]\n",
    "    return vetor\n",
    "\n",
    "\n",
    "def intercambiar_linhas(vetor: np.array, linha1: np.array, linha2: np.array) -> np.array:\n",
    "    vetor[[linha1, linha2], :] = vetor[[linha2, linha1], :]\n",
    "    return vetor\n",
    "\n",
    "\n",
    "def organizar_colunas(vetor: np.array):\n",
    "    contador = 0\n",
    "    for linha in vetor:\n",
    "        if not check_sorted(linha):\n",
    "            primeiro = min(linha)\n",
    "            for j in range(len(linha)):\n",
    "                if linha[j] != j + primeiro:\n",
    "                    numero_correto = np.where(linha == j + primeiro)[0][0]\n",
    "                    # print(vetor[i])\n",
    "                    # print(f\"index = {j}\")\n",
    "                    # print(f\"valor esperado = {j+primeiro}\")\n",
    "                    # print(f\"valor encontrado = {vetor[i][j]}\")\n",
    "                    # print(f\"valor esperado está no index: {numero_correto}\")\n",
    "                    # print(f\"Intercambiando o elemento no index {j} pelo elemento no index {numero_correto}\")\n",
    "                    intercambiar_colunas(vetor, j, numero_correto)\n",
    "                    contador += 1\n",
    "    return contador\n",
    "\n",
    "\n",
    "def organizar_linhas(vetor: np.array):\n",
    "    contador = 0\n",
    "    for line in vetor.T:\n",
    "        # print(line)\n",
    "        if not check_sorted(line):\n",
    "            primeiro = min(line)\n",
    "            for number in range(len(line)):\n",
    "                numero_correto = (number + primeiro) * (len(line)+1)\n",
    "                index_numero_correto = np.where(line == numero_correto)[0][0]\n",
    "                if line[number] != numero_correto:\n",
    "                    # print(numero_correto)\n",
    "                    # print(index_numero_correto)\n",
    "                    # print(np.where(line == numero_correto)[0][0])\n",
    "                    # print(vetor[line])\n",
    "                    # print(f\"index = {number}\")\n",
    "                    # print(f\"valor esperado = {number+primeiro}\")\n",
    "                    # print(f\"valor encontrado = {vetor[line][number]}\")\n",
    "                    # print(f\"valor esperado está no index: {numero_correto}\")\n",
    "                    # print(f\"Intercambiando o elemento no index {number} pelo elemento no index {numero_correto}\")\n",
    "                    intercambiar_linhas(vetor, number, index_numero_correto)\n",
    "                    contador += 1\n",
    "    return contador\n"
   ]
  },
  {
   "cell_type": "code",
   "execution_count": 13,
   "outputs": [
    {
     "name": "stdout",
     "output_type": "stream",
     "text": [
      "[[4 3]\n",
      " [2 1]]\n"
     ]
    },
    {
     "ename": "IndexError",
     "evalue": "index 0 is out of bounds for axis 0 with size 0",
     "output_type": "error",
     "traceback": [
      "\u001B[1;31m---------------------------------------------------------------------------\u001B[0m",
      "\u001B[1;31mIndexError\u001B[0m                                Traceback (most recent call last)",
      "\u001B[1;32m~\\AppData\\Local\\Temp/ipykernel_620/3484988648.py\u001B[0m in \u001B[0;36m<module>\u001B[1;34m\u001B[0m\n\u001B[0;32m     13\u001B[0m \u001B[0mcontador\u001B[0m \u001B[1;33m=\u001B[0m \u001B[1;36m0\u001B[0m\u001B[1;33m\u001B[0m\u001B[1;33m\u001B[0m\u001B[0m\n\u001B[0;32m     14\u001B[0m \u001B[0mcontador\u001B[0m \u001B[1;33m+=\u001B[0m \u001B[0morganizar_colunas\u001B[0m\u001B[1;33m(\u001B[0m\u001B[0mexemplo_teste\u001B[0m\u001B[1;33m)\u001B[0m\u001B[1;33m\u001B[0m\u001B[1;33m\u001B[0m\u001B[0m\n\u001B[1;32m---> 15\u001B[1;33m \u001B[0mcontador\u001B[0m \u001B[1;33m+=\u001B[0m \u001B[0morganizar_linhas\u001B[0m\u001B[1;33m(\u001B[0m\u001B[0mexemplo_teste\u001B[0m\u001B[1;33m)\u001B[0m\u001B[1;33m\u001B[0m\u001B[1;33m\u001B[0m\u001B[0m\n\u001B[0m\u001B[0;32m     16\u001B[0m \u001B[1;33m\u001B[0m\u001B[0m\n\u001B[0;32m     17\u001B[0m \u001B[1;33m\u001B[0m\u001B[0m\n",
      "\u001B[1;32m~\\AppData\\Local\\Temp/ipykernel_620/2042075182.py\u001B[0m in \u001B[0;36morganizar_linhas\u001B[1;34m(vetor)\u001B[0m\n\u001B[0;32m     56\u001B[0m             \u001B[1;32mfor\u001B[0m \u001B[0mnumber\u001B[0m \u001B[1;32min\u001B[0m \u001B[0mrange\u001B[0m\u001B[1;33m(\u001B[0m\u001B[0mlen\u001B[0m\u001B[1;33m(\u001B[0m\u001B[0mline\u001B[0m\u001B[1;33m)\u001B[0m\u001B[1;33m)\u001B[0m\u001B[1;33m:\u001B[0m\u001B[1;33m\u001B[0m\u001B[1;33m\u001B[0m\u001B[0m\n\u001B[0;32m     57\u001B[0m                 \u001B[0mnumero_correto\u001B[0m \u001B[1;33m=\u001B[0m \u001B[1;33m(\u001B[0m\u001B[0mnumber\u001B[0m \u001B[1;33m+\u001B[0m \u001B[0mprimeiro\u001B[0m\u001B[1;33m)\u001B[0m \u001B[1;33m*\u001B[0m \u001B[1;33m(\u001B[0m\u001B[0mlen\u001B[0m\u001B[1;33m(\u001B[0m\u001B[0mline\u001B[0m\u001B[1;33m)\u001B[0m\u001B[1;33m+\u001B[0m\u001B[1;36m1\u001B[0m\u001B[1;33m)\u001B[0m\u001B[1;33m\u001B[0m\u001B[1;33m\u001B[0m\u001B[0m\n\u001B[1;32m---> 58\u001B[1;33m                 \u001B[0mindex_numero_correto\u001B[0m \u001B[1;33m=\u001B[0m \u001B[0mnp\u001B[0m\u001B[1;33m.\u001B[0m\u001B[0mwhere\u001B[0m\u001B[1;33m(\u001B[0m\u001B[0mline\u001B[0m \u001B[1;33m==\u001B[0m \u001B[0mnumero_correto\u001B[0m\u001B[1;33m)\u001B[0m\u001B[1;33m[\u001B[0m\u001B[1;36m0\u001B[0m\u001B[1;33m]\u001B[0m\u001B[1;33m[\u001B[0m\u001B[1;36m0\u001B[0m\u001B[1;33m]\u001B[0m\u001B[1;33m\u001B[0m\u001B[1;33m\u001B[0m\u001B[0m\n\u001B[0m\u001B[0;32m     59\u001B[0m                 \u001B[1;32mif\u001B[0m \u001B[0mline\u001B[0m\u001B[1;33m[\u001B[0m\u001B[0mnumber\u001B[0m\u001B[1;33m]\u001B[0m \u001B[1;33m!=\u001B[0m \u001B[0mnumero_correto\u001B[0m\u001B[1;33m:\u001B[0m\u001B[1;33m\u001B[0m\u001B[1;33m\u001B[0m\u001B[0m\n\u001B[0;32m     60\u001B[0m                     \u001B[1;31m# print(numero_correto)\u001B[0m\u001B[1;33m\u001B[0m\u001B[1;33m\u001B[0m\u001B[0m\n",
      "\u001B[1;31mIndexError\u001B[0m: index 0 is out of bounds for axis 0 with size 0"
     ]
    }
   ],
   "source": [
    "linhas = 3\n",
    "colunas = 4\n",
    "total_de_numeros = linhas * colunas\n",
    "# exemplo_teste = array_canonico(linhas, colunas)\n",
    "exemplo_teste = np.array([[4, 3], [2,1]])\n",
    "# intercambiar_colunas(exemplo_teste, 0, 1)\n",
    "# intercambiar_linhas(exemplo_teste, 0, 1)\n",
    "\n",
    "\n",
    "print(exemplo_teste)\n",
    "\n",
    "\n",
    "contador = 0\n",
    "contador += organizar_colunas(exemplo_teste)\n",
    "contador += organizar_linhas(exemplo_teste)\n",
    "\n",
    "\n",
    "print(exemplo_teste)\n",
    "print()\n",
    "print(contador)"
   ],
   "metadata": {
    "collapsed": false
   }
  }
 ],
 "metadata": {
  "kernelspec": {
   "display_name": "Python 3",
   "language": "python",
   "name": "python3"
  },
  "language_info": {
   "codemirror_mode": {
    "name": "ipython",
    "version": 2
   },
   "file_extension": ".py",
   "mimetype": "text/x-python",
   "name": "python",
   "nbconvert_exporter": "python",
   "pygments_lexer": "ipython2",
   "version": "2.7.6"
  }
 },
 "nbformat": 4,
 "nbformat_minor": 0
}
