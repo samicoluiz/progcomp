{
 "cells": [
  {
   "cell_type": "code",
   "execution_count": 16,
   "metadata": {
    "collapsed": true
   },
   "outputs": [],
   "source": [
    "import re"
   ]
  },
  {
   "cell_type": "code",
   "execution_count": 17,
   "outputs": [
    {
     "name": "stdout",
     "output_type": "stream",
     "text": [
      "['(091)91234 5678', '91 91234 5678', '91-91234-5678', '(91) 91234-5678']\n"
     ]
    }
   ],
   "source": [
    "telefones = \"(091)91234 5678 91 91234 5678 91-91234-5678 (91) 91234-5678\"\n",
    "busca = re.findall(r\"\\(?\\d{2,3}\\)?[\\s\\-]?\\d{5}[\\s\\-]?\\d{4}\", telefones)\n",
    "print(busca)"
   ],
   "metadata": {
    "collapsed": false
   }
  },
  {
   "cell_type": "code",
   "execution_count": 18,
   "outputs": [
    {
     "name": "stdout",
     "output_type": "stream",
     "text": [
      "['(91) 91234 5678', '(91) 91234 5678', '(91) 91234 5678', '(91) 91234 5678']\n"
     ]
    }
   ],
   "source": [
    "def formatar_telefones(telefones_raw: str) -> list[str]:\n",
    "    \"\"\"Recebe uma lista de números de telefone e retorna uma lista com os números no formato (dd) ddddd dddd\"\"\"\n",
    "    busca = re.findall(r\"\\(?\\d{2,3}\\)?[\\s\\-]?\\d{5}[\\s\\-]?\\d{4}\", telefones_raw)\n",
    "    # Apaga um zero inicial (^0) ou qualquer caractere que não seja um dígito\n",
    "    telefones_clean = [re.sub(\"[(^0)\\D]\", \"\", i) for i in busca]\n",
    "    # Cria os intervalos para o formato desejado\n",
    "    ddd, grupo1, grupo2 = slice(0, 2), slice(2, 7), slice(7, None)\n",
    "    # Separa os números e aplica na string base\n",
    "    telefones_reformatados = [f\"({i[ddd]}) {i[grupo1]} {i[grupo2]}\" for i in telefones_clean]\n",
    "    return telefones_reformatados\n",
    "\n",
    "print(formatar_telefones(telefones))"
   ],
   "metadata": {
    "collapsed": false
   }
  }
 ],
 "metadata": {
  "kernelspec": {
   "display_name": "Python 3",
   "language": "python",
   "name": "python3"
  },
  "language_info": {
   "codemirror_mode": {
    "name": "ipython",
    "version": 2
   },
   "file_extension": ".py",
   "mimetype": "text/x-python",
   "name": "python",
   "nbconvert_exporter": "python",
   "pygments_lexer": "ipython2",
   "version": "2.7.6"
  }
 },
 "nbformat": 4,
 "nbformat_minor": 0
}
