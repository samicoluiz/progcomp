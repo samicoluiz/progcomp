{
 "cells": [
  {
   "cell_type": "code",
   "execution_count": 11,
   "metadata": {
    "collapsed": true
   },
   "outputs": [],
   "source": [
    "from dataclasses import dataclass\n",
    "\n",
    "\n",
    "@dataclass\n",
    "class Floresta:\n",
    "    arvores: list[int]\n",
    "\n",
    "class Macaco:\n",
    "    def __init__(self, pos):\n",
    "        self.posicao = pos\n",
    "        # linha_de_visao: bool\n",
    "        pulos_realizados: int = 0\n",
    "    def pular(self, arvore_destino: int):\n",
    "        pass"
   ]
  },
  {
   "cell_type": "code",
   "execution_count": 74,
   "outputs": [],
   "source": [
    "floresta_teste1 = Floresta([7, 3, 6, 6, 6, 15, 5, 1, 9, 2])\n",
    "floresta_teste2 = Floresta([3, 4, 3])\n",
    "floresta_teste3 = Floresta([3, 4, 3, 1])\n",
    "\n",
    "obi = Macaco(0)"
   ],
   "metadata": {
    "collapsed": false
   }
  },
  {
   "cell_type": "code",
   "execution_count": 75,
   "outputs": [
    {
     "name": "stdout",
     "output_type": "stream",
     "text": [
      "Encontrei o melhor alvo\n",
      "Saltei para a posição 1\n"
     ]
    },
    {
     "data": {
      "text/plain": "<Figure size 432x288 with 1 Axes>",
      "image/png": "[encoded data removed]"
     },
     "metadata": {
      "needs_background": "light"
     },
     "output_type": "display_data"
    },
    {
     "name": "stdout",
     "output_type": "stream",
     "text": [
      "Encontrei o melhor alvo\n",
      "Saltei para a posição 2\n"
     ]
    },
    {
     "data": {
      "text/plain": "<Figure size 432x288 with 1 Axes>",
      "image/png": "[encoded data removed]"
     },
     "metadata": {
      "needs_background": "light"
     },
     "output_type": "display_data"
    },
    {
     "data": {
      "text/plain": "<Figure size 432x288 with 1 Axes>",
      "image/png": "[encoded data removed]"
     },
     "metadata": {
      "needs_background": "light"
     },
     "output_type": "display_data"
    },
    {
     "name": "stdout",
     "output_type": "stream",
     "text": [
      "Saltei para o final!\n",
      "3\n"
     ]
    }
   ],
   "source": [
    "from matplotlib import pyplot as plt\n",
    "import numpy as np\n",
    "\n",
    "def coeficiente_angular(x: tuple[int], y: tuple[int], ponto1: int, ponto2: int) -> float:\n",
    "    coeficiente = ((y[ponto1] - y[ponto2]) / (x[ponto1] - x[ponto2]))\n",
    "    return coeficiente\n",
    "\n",
    "\n",
    "def intercepto(x: tuple[int], y: tuple[int], ponto1: int, ponto2: int) -> int:\n",
    "    return y[ponto1] - (x[ponto1] * coeficiente_angular(x, y, ponto1, ponto2))\n",
    "\n",
    "\n",
    "def linha(x: tuple[int], y: tuple[int], ponto1: int, ponto2: int) -> tuple:\n",
    "    inclinacao = coeficiente_angular(x, y, ponto1, ponto2)\n",
    "    icepto = intercepto(x, y, ponto1, ponto2)\n",
    "    x1 = np.linspace(ponto1, ponto2, abs(ponto1-ponto2)+1)\n",
    "    y1 = np.array(inclinacao * x1 + icepto)\n",
    "    return x1,y1\n",
    "\n",
    "\n",
    "def desenhar_linha_de_visao(floresta: list[int], x1: list, y1: list, floresta_original: list, possivel: bool) -> None:\n",
    "    if possivel:\n",
    "        color = 'green'\n",
    "    else:\n",
    "        color ='red'\n",
    "    plt.plot(x1, y1, color=color, linestyle='--')\n",
    "    desenhar_arvores(floresta_original)\n",
    "    plt.xlim(-2, len(floresta))\n",
    "    plt.ylim(0, max(floresta)+2)\n",
    "    plt.show()\n",
    "\n",
    "def desenhar_arvores(floresta: list[int]) -> None:\n",
    "    plt.stem(floresta, markerfmt='og', linefmt='-')\n",
    "    plt.xlim(-2, len(floresta))\n",
    "    plt.ylim(0, max(floresta)+2)\n",
    "\n",
    "def main():\n",
    "    floresta = floresta_teste3\n",
    "    x, y = list(zip(*enumerate(floresta.arvores)))\n",
    "    ponto1 = 0\n",
    "    ponto2 = 2\n",
    "    contador = 0\n",
    "    while len(y[ponto1:]) > 2:\n",
    "        x1,y1 = linha(x, y, ponto1, ponto2)\n",
    "        if not all(y[ponto1:ponto2+1] <= y1):\n",
    "            print('Encontrei o melhor alvo')\n",
    "            print(f'Saltei para a posição {ponto2-1}')\n",
    "            desenhar_linha_de_visao(floresta.arvores, x1, y1, floresta_original=y, possivel=False)\n",
    "            ponto1, ponto2 = ponto2-1, ponto2+1\n",
    "            contador += 1\n",
    "        else:\n",
    "            print(\"Escolhendo um alvo... Eu consigo um salto melhor!\")\n",
    "            desenhar_linha_de_visao(floresta.arvores, x1, y1, floresta_original=y, possivel=True)\n",
    "            ponto2 += 1\n",
    "    else:\n",
    "        contador += 1\n",
    "\n",
    "    x1,y1 = linha(x, y, len(y)-2, len(y)-1)\n",
    "    desenhar_linha_de_visao(floresta.arvores, x1, y1, floresta_original=y, possivel=True)\n",
    "    print('Saltei para o final!')\n",
    "    print(contador)\n",
    "\n",
    "if __name__ == main():\n",
    "    main()"
   ],
   "metadata": {
    "collapsed": false
   }
  }
 ],
 "metadata": {
  "kernelspec": {
   "display_name": "Python 3",
   "language": "python",
   "name": "python3"
  },
  "language_info": {
   "codemirror_mode": {
    "name": "ipython",
    "version": 2
   },
   "file_extension": ".py",
   "mimetype": "text/x-python",
   "name": "python",
   "nbconvert_exporter": "python",
   "pygments_lexer": "ipython2",
   "version": "2.7.6"
  }
 },
 "nbformat": 4,
 "nbformat_minor": 0
}
