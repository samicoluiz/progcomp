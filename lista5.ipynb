{
 "cells": [
  {
   "cell_type": "markdown",
   "metadata": {},
   "source": [
    "# 1)\n",
    "Subtração de 2 matrizes com dimensões nxn e cálculo da transposta de uma matriz de dimensão nxn."
   ]
  },
  {
   "cell_type": "code",
   "execution_count": 2,
   "metadata": {},
   "outputs": [],
   "source": [
    "import random\n",
    "\n",
    "def cria_matriz(n: int) -> list[list[int]]:\n",
    "    \"\"\"Cria uma matriz de dimensão nxn\"\"\"\n",
    "    return [[random.randint(1,10) for i in range(n)] for j in range(n)]\n",
    "\n",
    "def diferenca_matrizes(A: list[list[int]], B: list[list[int]]) -> list[list[int]]:\n",
    "    \"\"\"Calcula a diferença entre as matrizes A e B\"\"\"\n",
    "    return [[A[i][j] - B[i][j] for j in range(len(A))] for i in range(len(A[0]))]\n",
    "\n",
    "def transposta(A: list[list[int]]) -> list[list[int]]:\n",
    "    return [[A[j][i] for j in range(len(A))] for i in range(len(A[0]))]"
   ]
  },
  {
   "cell_type": "code",
   "execution_count": 3,
   "metadata": {},
   "outputs": [],
   "source": [
    "A = cria_matriz(3)\n",
    "B = cria_matriz(3)\n",
    "C = diferenca_matrizes(A, B)\n",
    "AT = transposta(A)"
   ]
  },
  {
   "cell_type": "code",
   "execution_count": 4,
   "metadata": {},
   "outputs": [
    {
     "name": "stdout",
     "output_type": "stream",
     "text": [
      "[1, 3, 9]\n",
      "[9, 4, 4]\n",
      "[10, 1, 3]\n",
      "\n",
      "[9, 8, 7]\n",
      "[3, 7, 8]\n",
      "[10, 1, 10]\n",
      "\n",
      "[-8, -5, 2]\n",
      "[6, -3, -4]\n",
      "[0, 0, -7]\n",
      "\n",
      "[1, 9, 10]\n",
      "[3, 4, 1]\n",
      "[9, 4, 3]\n",
      "\n"
     ]
    }
   ],
   "source": [
    "for i in A:\n",
    "    print(i)\n",
    "print()\n",
    "for i in B:\n",
    "    print(i)\n",
    "print()\n",
    "for i in C:\n",
    "    print(i)\n",
    "print()\n",
    "for i in AT:\n",
    "    print(i)\n",
    "print()"
   ]
  },
  {
   "cell_type": "markdown",
   "metadata": {},
   "source": [
    "# 2)\n",
    "ler posições de uma matriz 10x10 e exibir não nulas"
   ]
  },
  {
   "cell_type": "code",
   "execution_count": 5,
   "metadata": {},
   "outputs": [
    {
     "name": "stdout",
     "output_type": "stream",
     "text": [
      "6\n"
     ]
    }
   ],
   "source": [
    "def nao_nulas(A: list[list[int]]) -> int:\n",
    "    \"\"\"Retorna o numero de elementos não-nulos em uma matriz\"\"\"\n",
    "    return sum(sum(j for j in i if j != 0) for i in A)\n",
    "\n",
    "matriz = [[1, 0],[2, 3]]\n",
    "print(nao_nulas((matriz)))"
   ]
  },
  {
   "cell_type": "markdown",
   "metadata": {},
   "source": [
    "# 3)\n",
    "Corrida do Cirio V.2"
   ]
  },
  {
   "cell_type": "code",
   "execution_count": 6,
   "metadata": {},
   "outputs": [],
   "source": [
    "import random"
   ]
  },
  {
   "cell_type": "code",
   "execution_count": 7,
   "metadata": {},
   "outputs": [],
   "source": [
    "def getCorredorMelhorTempo(tempos, melhorTempo):\n",
    "    for i,j in tempos.items():\n",
    "        if melhorTempo in j:\n",
    "            return i, tempos[i].index(melhorTempo)"
   ]
  },
  {
   "cell_type": "code",
   "execution_count": 8,
   "metadata": {},
   "outputs": [
    {
     "name": "stdout",
     "output_type": "stream",
     "text": [
      "Corredor 1 [116, 139, 119, 150, 157, 97, 148, 111, 141, 115]\n",
      "Corredor 2 [116, 112, 120, 124, 133, 116, 138, 92, 128, 124]\n",
      "Corredor 3 [111, 107, 126, 151, 127, 118, 94, 106, 138, 112]\n",
      "Corredor 4 [146, 103, 113, 99, 124, 127, 129, 105, 109, 107]\n",
      "Corredor 5 [103, 124, 95, 124, 128, 115, 102, 125, 120, 104]\n",
      "Corredor 6 [169, 118, 127, 134, 148, 109, 131, 130, 109, 134]\n",
      "92\n",
      "1\n"
     ]
    }
   ],
   "source": [
    "nomes = *(f'Corredor {i+1}' for i in range(6)),\n",
    "tempos = {i: [0,0,0,0,0,0,0,0,0,0] for i in nomes}\n",
    "\n",
    "for corredor in tempos:\n",
    "    for volta in range(len(tempos[corredor])):\n",
    "        tempos[corredor][volta] = abs(round(random.normalvariate(120,20)))\n",
    "\n",
    "for i,j in tempos.items():\n",
    "    print(i, j)\n",
    "\n",
    "matrizResultados = list(tempos.values())\n",
    "melhoresTempos = [min(tempo) for tempo in matrizResultados]\n",
    "melhorTempo = min(melhoresTempos)\n",
    "\n",
    "print(melhorTempo)\n",
    "print(melhoresTempos.index(melhorTempo))\n",
    "\n",
    "corredorMelhorTempo, voltaMaisRapida = getCorredorMelhorTempo(tempos, melhorTempo)\n",
    "resultadoFinal = sorted(tempos.items(), key=lambda x:sum(x[1]))\n",
    "\n",
    "    \n"
   ]
  },
  {
   "cell_type": "code",
   "execution_count": 9,
   "metadata": {},
   "outputs": [
    {
     "name": "stdout",
     "output_type": "stream",
     "text": [
      "*******************************************\n",
      "* RESULTADO FINAL DA 37ª CORRIDA DO CÍRIO *\n",
      "*******************************************\n",
      "\n",
      "Corredor 5: .......................1.9 min.\n",
      "Corredor 4: .....................1.937 min.\n",
      "Corredor 3: .....................1.983 min.\n",
      "Corredor 2: .....................2.005 min.\n",
      "Corredor 1: .....................2.155 min.\n",
      "Corredor 6: .....................2.182 min.\n",
      "\n",
      "Melhor volta:\n",
      "Corredor 2 (8ª volta) - 92 s\n",
      "*******************************************\n"
     ]
    }
   ],
   "source": [
    "print(f'{\"*\"*43}')\n",
    "print(f'* RESULTADO FINAL DA 37ª CORRIDA DO CÍRIO *')\n",
    "print(f'{\"*\"*43}')\n",
    "print()\n",
    "for i,j in resultadoFinal:\n",
    "    print(f'{i: <}: {round(sum(j)/(600),3):.>26} min.')\n",
    "print()\n",
    "print(f'Melhor volta:\\n{corredorMelhorTempo} ({voltaMaisRapida+1}ª volta) - {tempos[corredorMelhorTempo][voltaMaisRapida]} s')\n",
    "print(f'{\"*\"*43}')"
   ]
  },
  {
   "cell_type": "markdown",
   "metadata": {},
   "source": [
    "# 4)\n",
    "Jogo da velha"
   ]
  },
  {
   "cell_type": "code",
   "execution_count": 13,
   "metadata": {},
   "outputs": [
    {
     "name": "stdout",
     "output_type": "stream",
     "text": [
      "[[0, 0, 0], [0, 0, 0], [0, 0, 0]]\n",
      "Jogador 1, escolha a posição para marcar (linha x coluna): \n",
      "[1, 0, 0]\n",
      "[0, 0, 0]\n",
      "[0, 0, 0]\n",
      "Jogador 2, escolha a posição para marcar (linha x coluna): \n",
      "[1, 2, 0]\n",
      "[0, 0, 0]\n",
      "[0, 0, 0]\n",
      "Jogador 1, escolha a posição para marcar (linha x coluna): \n",
      "[1, 2, 0]\n",
      "[0, 1, 0]\n",
      "[0, 0, 0]\n",
      "Jogador 2, escolha a posição para marcar (linha x coluna): \n",
      "[1, 2, 2]\n",
      "[0, 1, 0]\n",
      "[0, 0, 0]\n",
      "Jogador 1, escolha a posição para marcar (linha x coluna): \n",
      "[1, 2, 2]\n",
      "[0, 1, 0]\n",
      "[0, 0, 1]\n",
      "Jogador 1 venceu\n"
     ]
    }
   ],
   "source": [
    "tabuleiro = cria_matriz(3)\n",
    "tabuleiro = diferenca_matrizes(tabuleiro, tabuleiro)\n",
    "######\n",
    "vencedor = False\n",
    "while not vencedor:\n",
    "    print(\"Jogador 1, escolha a posição para marcar (linha x coluna): \")\n",
    "    linha1, coluna1 = input().split()\n",
    "    linha1, coluna1 = int(linha1), int(coluna1)\n",
    "    while tabuleiro[linha1][coluna1] != 0:\n",
    "        print(\"Jogada impossível, espaço já marcado. Insira uma nova jogada\")\n",
    "        linha1, coluna1 = input().split()\n",
    "        linha1, coluna1 = int(linha1), int(coluna1)\n",
    "    tabuleiro[linha1][coluna1] = 1\n",
    "    for i in tabuleiro:\n",
    "        print(i)\n",
    "    if all(espaco == 1 for espaco in tabuleiro[linha1]) or\\\n",
    "    all(espaco == 1 for espaco in tabuleiro[coluna1]) or\\\n",
    "    all(tabuleiro[i][i] == 1 for i in range(len(tabuleiro))):\n",
    "        print(\"Jogador 1 venceu\")\n",
    "        vencedor = True\n",
    "        continue\n",
    "    if nao_nulas(tabuleiro) == 0:\n",
    "        print(\"Velha! O jogo empatou.\")\n",
    "        break\n",
    "\n",
    "    print(\"Jogador 2, escolha a posição para marcar (linha x coluna): \")\n",
    "    linha2, coluna2 = input().split()\n",
    "    linha2, coluna2 = int(linha2), int(coluna2)\n",
    "    while tabuleiro[linha2][coluna2] != 0:\n",
    "        print(\"Jogada impossível, espaço já marcado. Insira uma nova jogada\")\n",
    "        linha2, coluna2 = input().split()\n",
    "        linha2, coluna2 = int(linha2), int(coluna2)\n",
    "    tabuleiro[linha2][coluna2] = 2\n",
    "    for i in tabuleiro:\n",
    "        print(i)\n",
    "    if all(espaço == 2 for espaço in tabuleiro[linha2]) or all(espaço == 2 for espaço in tabuleiro[coluna2]):\n",
    "        print(\"Jogador 2 venceu\")\n",
    "        vencedor = True\n",
    "        continue\n",
    "    if nao_nulas(tabuleiro) == 0:\n",
    "        print(\"Velha! O jogo empatou.\")\n",
    "        break\n",
    "\n",
    "    "
   ]
  }
 ],
 "metadata": {
  "kernelspec": {
   "display_name": "Python 3.9.13 ('base')",
   "language": "python",
   "name": "python3"
  },
  "language_info": {
   "codemirror_mode": {
    "name": "ipython",
    "version": 3
   },
   "file_extension": ".py",
   "mimetype": "text/x-python",
   "name": "python",
   "nbconvert_exporter": "python",
   "pygments_lexer": "ipython3",
   "version": "3.9.13"
  },
  "orig_nbformat": 4,
  "vscode": {
   "interpreter": {
    "hash": "c832637d7c124723affdd97e45e4b686d85c107541421da165f016447aec3654"
   }
  }
 },
 "nbformat": 4,
 "nbformat_minor": 2
}
