{
 "cells": [
  {
   "cell_type": "code",
   "execution_count": null,
   "metadata": {
    "collapsed": true,
    "pycharm": {
     "is_executing": true
    }
   },
   "outputs": [],
   "source": [
    "import numpy as np\n",
    "\n",
    "\n",
    "terrenos = [2,1,4,1]\n",
    "\n",
    "def get_vizinhanca(lote: list[int]) -> np.ndarray:\n",
    "    \"\"\"Recebe:\n",
    "    - Lista com as areas dos terrenos de um lote\n",
    "    Retorna:\n",
    "    - Vetor 2 x 2 representando as vizinhancças de cada terreno.\n",
    "    \"\"\"\n",
    "    vizinhanca = []\n",
    "    vizinhos_direita = np.roll(terrenos, 1)\n",
    "    vizinhos_esquerda = np.roll(terrenos, -1)\n",
    "    for i in range(len(lote)):\n",
    "        vizinhanca.append([[terrenos[i], vizinhos_esquerda[i]], [terrenos[i], vizinhos_direita[i]]])\n",
    "    return np.array(vizinhanca)\n",
    "\n",
    "def vizinhos_esquerda_ou_direita(terreno_alvo: int, melhor_adjacente: int) -> int:\n",
    "    \"\"\"Recebe:\n",
    "    terreno_alvo -- O indice do terreno de valor alvo\n",
    "    melhor_adjacente -- 0 ou 1. Indica a posição em relação ao valor alvo.\n",
    "        0: posição anterior\n",
    "        1: posição seguinte\n",
    "    Retorna:\n",
    "        Índice do terreno do melhor_adjacente.\n",
    "    \"\"\"\n",
    "    # A função é necessária para tratar dos casos onde o terreno escolhido está nas extremidades,\n",
    "    # e um simples acréscimo ou decréscimo no índice pode gerar um erro.\n",
    "    # - Nos casos onde o terreno_alvo é o último elemento do vetor e o melhor_adjacente é o elemento seguinte, vizinho 2 será o elemento 0 do vetor\n",
    "    # - Nos casos onde o terreno_alvo é o primeiro elemento do vetor e o melhor_adjacente é o elemento anterior, vizinho 2 será o elemento -1 do vetor\n",
    "    # - Nos demais casos melhor_adjacente será terreno_alvo +1 (seguinte) ou terreno_alvo -1 (anterior)\n",
    "\n",
    "    if melhor_adjacente == 0 and terreno_alvo < len(terrenos)-1:\n",
    "        melhor_adjacente = terreno_alvo + 1\n",
    "    elif melhor_adjacente == 0 and terreno_alvo >= len(terrenos)-1:\n",
    "        vizinhos2 = 0\n",
    "    elif melhor_adjacente == 1 and terreno_alvo > 0:\n",
    "        melhor_adjacente = terreno_alvo - 1\n",
    "    elif melhor_adjacente == 1 and terreno_alvo <= 0:\n",
    "        melhor_adjacente = len(terrenos)-1\n",
    "    return melhor_adjacente\n",
    "\n",
    "def get_melhor_divisao(vizinhanca: np.ndarray) -> tuple:\n",
    "    \"\"\"Recebe:\n",
    "    vizinhanca -- um vetor 2 x 2 representando os pares de vizinhanças\n",
    "    Retorna:\n",
    "    terreno_alvo -- indice do terreno alvo\n",
    "    melhor_adjacente -- Posição relativa ao terreno_alvo\n",
    "        0: posição anterior\n",
    "        1: posição seguinte\n",
    "    \"\"\"\n",
    "    # 1- Pesquisa pelo maior valor de cada par e dentre estes valores identificar o menor, este é o valor alvo.\\\n",
    "    # 2- Pesquisa entre os vizinhos do valor alvo o vizinho de menor área. Estes serão os vizinhos escolhidos.\n",
    "    # 3- Pesquisa na matriz 2 x 2 o índice do par escolhido.\n",
    "    # 4- Retorna o indice do valor alvo e 0 (vizinho seguinte) ou 1 (vizinho anterior).\n",
    "\n",
    "    # Menor area entre maiores areas\n",
    "    menores_areas = np.amin(vizinhanca, axis=1)\n",
    "    valor_alvo = np.min(np.amax(menores_areas, axis=1))\n",
    "    candidatos = np.where((np.max(menores_areas, axis=1) == valor_alvo) & (menores_areas[:,0] == valor_alvo))\n",
    "    candidato_escolhido = np.amin(vizinhanca[candidatos], axis = 1)[0]\n",
    "    terreno_alvo, melhor_adjacente = np.where(np.all(vizinhanca == candidato_escolhido, axis=2))\n",
    "    terreno_alvo, melhor_adjacente = terreno_alvo[0], melhor_adjacente[0]\n",
    "    # melhor_adjacente só pode ser 0 ou 1 e indica se om melhor terreno para a união está à direita ou esquerda, respectivamente, de terreno_alvo\n",
    "\n",
    "    print(f'A melhor divisão é entre o terreno {terreno_alvo} e o terreno {melhor_adjacente}')\n",
    "    return terreno_alvo, melhor_adjacente\n",
    "\n",
    "def taxar(lote: list, vizinhos: tuple, taxa: float) -> float:\n",
    "    \"\"\"Aplica a taxa definida ao terreno_alvo\"\"\"\n",
    "    taxacao = taxa * max([lote[vizinhos[0]], lote[vizinhos[1]]])\n",
    "    print(f\"Colentando {taxacao}\")\n",
    "    return taxacao\n",
    "\n",
    "def unir_terrenos(vizinhos: tuple, lote: np.ndarray) -> int:\n",
    "    \"\"\"Combina o terreno_alvo com o melhor_adjacente\"\"\"\n",
    "    uniao = lote[vizinhos[0]] + lote[vizinhos[1]]\n",
    "    print(f'A união resulta em um terreno de área {uniao}.')\n",
    "    return uniao\n",
    "\n",
    "def atualizar_lote(lote: np.ndarray, terrenos_unidos: tuple, terreno_criado: int) -> np.ndarray:\n",
    "    \"\"\"Atualiza o lote dos terrenos originais com os terrenos combinados\"\"\"\n",
    "    return np.insert(np.delete(lote, terrenos_unidos), terrenos_unidos[0], terreno_criado)\n"
   ]
  },
  {
   "cell_type": "code",
   "execution_count": null,
   "outputs": [],
   "source": [
    "taxa = 1.5\n",
    "taxa_total = 0\n",
    "# LOOP\n",
    "for div in range(len(terrenos)-1):\n",
    "    lote = get_vizinhanca(terrenos)\n",
    "    vizinhos = get_melhor_divisao(lote)\n",
    "    taxa_total += taxar(terrenos, vizinhos, taxa)\n",
    "    print(f\"Taxa total {taxa_total}\")\n",
    "    if div <= len(terrenos):\n",
    "        novos_terrenos = unir_terrenos(vizinhos, terrenos)\n",
    "    terrenos = atualizar_lote(terrenos, vizinhos, novos_terrenos)\n",
    "    print()\n",
    "    print(terrenos)\n",
    "\n",
    "print(taxa_total)"
   ],
   "metadata": {
    "collapsed": false
   }
  },
  {
   "cell_type": "code",
   "execution_count": null,
   "outputs": [],
   "source": [],
   "metadata": {
    "collapsed": false
   }
  }
 ],
 "metadata": {
  "kernelspec": {
   "display_name": "Python 3",
   "language": "python",
   "name": "python3"
  },
  "language_info": {
   "codemirror_mode": {
    "name": "ipython",
    "version": 2
   },
   "file_extension": ".py",
   "mimetype": "text/x-python",
   "name": "python",
   "nbconvert_exporter": "python",
   "pygments_lexer": "ipython2",
   "version": "2.7.6"
  }
 },
 "nbformat": 4,
 "nbformat_minor": 0
}
