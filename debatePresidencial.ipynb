{
 "cells": [
  {
   "cell_type": "code",
   "execution_count": 1,
   "metadata": {},
   "outputs": [],
   "source": [
    "import pandas as pd"
   ]
  },
  {
   "cell_type": "code",
   "execution_count": 54,
   "metadata": {},
   "outputs": [
    {
     "name": "stdout",
     "output_type": "stream",
     "text": [
      "que         854\n",
      "a           819\n",
      "o           818\n",
      "de          799\n",
      "e           599\n",
      "           ... \n",
      "metendo       1\n",
      "roubando      1\n",
      "etanol        1\n",
      "álcool        1\n",
      "semana        1\n",
      "Length: 3747, dtype: int64\n"
     ]
    },
    {
     "name": "stderr",
     "output_type": "stream",
     "text": [
      "C:\\Users\\looui\\AppData\\Local\\Temp/ipykernel_13560/647681284.py:3: FutureWarning: The default value of regex will change from True to False in a future version.\n",
      "  frequencia_palavras = tabela_xls['Texto'].str.replace(r'[^\\w\\s]+', '').str.split(expand=True).stack().value_counts()\n"
     ]
    }
   ],
   "source": [
    "tabela_xls = pd.read_excel('debate_band.xlsx', index_col='Ordem')\n",
    "tabela_xls['Texto'] = tabela_xls['Texto'].str.lower()\n",
    "frequencia_palavras = tabela_xls['Texto'].str.replace(r'[^\\w\\s]+', '').str.split(expand=True).stack().value_counts()\n",
    "frequencia_palavras.to_csv('contagemPalavras.csv', encoding='utf-8')\n",
    "print(frequencia_palavras)\n"
   ]
  }
 ],
 "metadata": {
  "kernelspec": {
   "display_name": "Python 3.9.7 ('base')",
   "language": "python",
   "name": "python3"
  },
  "language_info": {
   "codemirror_mode": {
    "name": "ipython",
    "version": 3
   },
   "file_extension": ".py",
   "mimetype": "text/x-python",
   "name": "python",
   "nbconvert_exporter": "python",
   "pygments_lexer": "ipython3",
   "version": "3.9.7"
  },
  "orig_nbformat": 4,
  "vscode": {
   "interpreter": {
    "hash": "88279d2366fe020547cde40dd65aa0e3aa662a6ec1f3ca12d88834876c85e1a6"
   }
  }
 },
 "nbformat": 4,
 "nbformat_minor": 2
}
