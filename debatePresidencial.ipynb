{
 "cells": [
  {
   "cell_type": "code",
   "execution_count": 1,
   "metadata": {},
   "outputs": [],
   "source": [
    "import pandas as pd"
   ]
  },
  {
   "cell_type": "code",
   "execution_count": 62,
   "metadata": {},
   "outputs": [
    {
     "name": "stdout",
     "output_type": "stream",
     "text": [
      "       palavra  contagem\n",
      "0          que       854\n",
      "1            a       819\n",
      "2            o       818\n",
      "3           de       799\n",
      "4            e       599\n",
      "...        ...       ...\n",
      "3742   metendo         1\n",
      "3743  roubando         1\n",
      "3744    etanol         1\n",
      "3745    álcool         1\n",
      "3746    semana         1\n",
      "\n",
      "[3747 rows x 2 columns]\n"
     ]
    },
    {
     "name": "stderr",
     "output_type": "stream",
     "text": [
      "C:\\Users\\looui\\AppData\\Local\\Temp/ipykernel_13560/3756520500.py:3: FutureWarning: The default value of regex will change from True to False in a future version.\n",
      "  frequencia_palavras = tabela_xls['Texto'].str.replace(r'[^\\w\\s]+', '').str.split(expand=True).stack().value_counts().reset_index()\n"
     ]
    }
   ],
   "source": [
    "tabela_xls = pd.read_excel('debate_band.xlsx', index_col='Ordem')\n",
    "tabela_xls['Texto'] = tabela_xls['Texto'].str.lower()\n",
    "frequencia_palavras = tabela_xls['Texto'].str.replace(r'[^\\w\\s]+', '').str.split(expand=True).stack().value_counts().reset_index()\n",
    "frequencia_palavras.columns = ['palavra', 'contagem']\n",
    "# frequencia_palavras.to_csv('contagemPalavras.csv', encoding='utf-8')\n",
    "print(frequencia_palavras)\n"
   ]
  }
 ],
 "metadata": {
  "kernelspec": {
   "display_name": "Python 3.9.7 ('base')",
   "language": "python",
   "name": "python3"
  },
  "language_info": {
   "codemirror_mode": {
    "name": "ipython",
    "version": 3
   },
   "file_extension": ".py",
   "mimetype": "text/x-python",
   "name": "python",
   "nbconvert_exporter": "python",
   "pygments_lexer": "ipython3",
   "version": "3.9.7"
  },
  "orig_nbformat": 4,
  "vscode": {
   "interpreter": {
    "hash": "88279d2366fe020547cde40dd65aa0e3aa662a6ec1f3ca12d88834876c85e1a6"
   }
  }
 },
 "nbformat": 4,
 "nbformat_minor": 2
}
