{
 "cells": [
  {
   "cell_type": "code",
   "execution_count": 28,
   "metadata": {
    "collapsed": true
   },
   "outputs": [],
   "source": [
    "import pandas as pd\n"
   ]
  },
  {
   "cell_type": "code",
   "execution_count": 29,
   "outputs": [],
   "source": [
    "df = pd.read_excel(\"github-ranking-2022-12-07.xlsx\", engine='openpyxl')"
   ],
   "metadata": {
    "collapsed": false
   }
  },
  {
   "cell_type": "code",
   "execution_count": 30,
   "outputs": [],
   "source": [
    "python_filter = df[df.language == \"Python\"].drop_duplicates()\n",
    "top50_forks = df[df.language == \"Python\"].sort_values(by=\"forks\", ascending=False).reset_index(drop=True).head(50).drop_duplicates()\n",
    "top50_stars = df[df.language == \"Python\"].sort_values(by=\"stars\", ascending=False).reset_index(drop=True).head(50).drop_duplicates()"
   ],
   "metadata": {
    "collapsed": false
   }
  },
  {
   "cell_type": "code",
   "execution_count": 39,
   "outputs": [],
   "source": [
    "python_filter.to_csv(\"python_filter.csv\", encoding=\"utf-8\")\n",
    "top50_forks.to_csv(\"top50_forks.csv\", encoding=\"utf-8\")\n",
    "top50_stars.to_csv(\"top50_stars.csv\", encoding=\"utf-8\")"
   ],
   "metadata": {
    "collapsed": false
   }
  }
 ],
 "metadata": {
  "kernelspec": {
   "display_name": "Python 3",
   "language": "python",
   "name": "python3"
  },
  "language_info": {
   "codemirror_mode": {
    "name": "ipython",
    "version": 2
   },
   "file_extension": ".py",
   "mimetype": "text/x-python",
   "name": "python",
   "nbconvert_exporter": "python",
   "pygments_lexer": "ipython2",
   "version": "2.7.6"
  }
 },
 "nbformat": 4,
 "nbformat_minor": 0
}
