{
 "cells": [
  {
   "cell_type": "code",
   "execution_count": 18,
   "metadata": {},
   "outputs": [
    {
     "name": "stdout",
     "output_type": "stream",
     "text": [
      "Grupo de teste: [18, 1, 4, 5, 7, 8, 8, 10, 12, 13, 15, 17, 18, 18, 18, 20, 24, 25, 25]\n",
      "\n",
      "O tracajá mais veloz do grupo é de nível 3.\n"
     ]
    }
   ],
   "source": [
    "import random\n",
    "\n",
    "def criaGrupoTeste():\n",
    "    L = random.randint(1,50) # alterar essa variável para input do usuario, caso necessário\n",
    "    grupo = [L] + sorted([random.randint(1, 25) for i in range(L)])\n",
    "    maisVeloz = grupo[-1]\n",
    "\n",
    "    if maisVeloz < 10:\n",
    "        nivel = 1\n",
    "    elif maisVeloz < 15 and maisVeloz >= 10:\n",
    "        nivel = 2\n",
    "    else:\n",
    "        nivel = 3\n",
    "    \n",
    "    return grupo, nivel\n",
    "\n",
    "grupoTeste, maisVeloz = criaGrupoTeste()\n",
    "\n",
    "print(f'''Grupo de teste: {grupoTeste}\n",
    "\n",
    "O tracajá mais veloz do grupo é de nível {maisVeloz}.''')"
   ]
  }
 ],
 "metadata": {
  "kernelspec": {
   "display_name": "Python 3.9.7 ('base')",
   "language": "python",
   "name": "python3"
  },
  "language_info": {
   "codemirror_mode": {
    "name": "ipython",
    "version": 3
   },
   "file_extension": ".py",
   "mimetype": "text/x-python",
   "name": "python",
   "nbconvert_exporter": "python",
   "pygments_lexer": "ipython3",
   "version": "3.9.7"
  },
  "orig_nbformat": 4,
  "vscode": {
   "interpreter": {
    "hash": "88279d2366fe020547cde40dd65aa0e3aa662a6ec1f3ca12d88834876c85e1a6"
   }
  }
 },
 "nbformat": 4,
 "nbformat_minor": 2
}
