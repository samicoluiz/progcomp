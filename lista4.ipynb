{
 "cells": [
  {
   "cell_type": "markdown",
   "metadata": {},
   "source": [
    "# Questão 1"
   ]
  },
  {
   "cell_type": "code",
   "execution_count": 58,
   "metadata": {},
   "outputs": [],
   "source": [
    "agenda = {}"
   ]
  },
  {
   "cell_type": "code",
   "execution_count": 57,
   "metadata": {},
   "outputs": [],
   "source": [
    "def incluirNovoNome():\n",
    "    nome = input(f'Insira o nome do contato: ').lower()\n",
    "    do = True\n",
    "    telefones = []\n",
    "    while do:\n",
    "        telefone = int(input(f'Insira o telefone do contato: '))\n",
    "        telefones.append(telefone)\n",
    "        do = int(input(f'Deseja insirir outro número de telefone\\n\\\n",
    "            [1] Sim\\n\\\n",
    "            [0] Não'))\n",
    "    agenda[nome] = telefones\n",
    "\n",
    "def incluirTelefone():\n",
    "    nome = input('Insira o nome do contato: ').lower()\n",
    "    \n",
    "    if nome not in agenda:\n",
    "        while nome not in agenda:\n",
    "            do = int(input(f'Contato não encontrado. Escolha uma opção:\\n\\\n",
    "            [1] Criar contato\\n\\\n",
    "            [2] Buscar novamente\\n\\\n",
    "            [0] Encerrar'))\n",
    "            if do == 0:\n",
    "                break\n",
    "            elif do == 1:\n",
    "                incluirNovoNome()\n",
    "            else:\n",
    "                nome = input('Insira o nome do contato: ').lower()\n",
    "    else:\n",
    "        telefone = int(input(f'Insira o telefone do contato: '))\n",
    "        agenda[nome].append(telefone)\n",
    "\n",
    "def excluirTelefone():\n",
    "    nome = input('Insira o nome do contato: ').lower()\n",
    "    \n",
    "    if nome not in agenda:\n",
    "        while nome not in agenda:\n",
    "            do = int(input(f'Contato não encontrado. Escolha uma opção:\\n\\\n",
    "            [2] Buscar novamente\\n\\\n",
    "            [0] Encerrar'))\n",
    "            if do == 0:\n",
    "                break\n",
    "            else:\n",
    "                nome = input('Insira o nome do contato: ').lower()\n",
    "    else:\n",
    "        print(\"Escolha o número para remover: \")\n",
    "        for i in range(len(agenda[nome])):\n",
    "            print(f'[{i}] {agenda[nome][i]}')\n",
    "        choiceIn = int(input())\n",
    "        agenda[nome].remove(agenda[nome][choiceIn])\n",
    "        if len(agenda[nome]) == 0:\n",
    "            excluirNome(nome)\n",
    "\n",
    "def excluirNome(nome):\n",
    "    del agenda[nome]\n",
    "\n",
    "def consultarTelefone():\n",
    "    nome = input('Insira o nome do contato: ')\n",
    "    \n",
    "    if nome.lower() not in agenda:\n",
    "        while nome.lower() not in agenda:\n",
    "            do = int(input(f'Contato não encontrado. Escolha uma opção:\\n\\\n",
    "            [2] Buscar novamente\\n\\\n",
    "            [0] Encerrar'))\n",
    "            if do == 0:\n",
    "                break\n",
    "            else:\n",
    "                nome = input('Insira o nome do contato: ')\n",
    "    else:\n",
    "        print(f'Os telefones registrados para {nome} são:')\n",
    "        for i in range(len(agenda[nome])):\n",
    "            print(f'{agenda[nome][i]}')\n",
    "        "
   ]
  },
  {
   "cell_type": "markdown",
   "metadata": {},
   "source": [
    "# Questão 2"
   ]
  },
  {
   "cell_type": "code",
   "execution_count": 2,
   "metadata": {},
   "outputs": [],
   "source": [
    "import random"
   ]
  },
  {
   "cell_type": "code",
   "execution_count": 76,
   "metadata": {},
   "outputs": [],
   "source": [
    "def getCorredorMelhorTempo(tempos, melhorTempo):\n",
    "    for i,j in tempos.items():\n",
    "        if melhorTempo in j:\n",
    "            return i, tempos[i].index(melhorTempo)"
   ]
  },
  {
   "cell_type": "code",
   "execution_count": 77,
   "metadata": {},
   "outputs": [
    {
     "name": "stdout",
     "output_type": "stream",
     "text": [
      "Corredor 1 [130, 112, 120, 120, 152, 101, 126, 109, 122, 103]\n",
      "Corredor 2 [144, 140, 129, 118, 108, 85, 113, 137, 81, 108]\n",
      "Corredor 3 [126, 138, 101, 123, 116, 129, 128, 135, 94, 128]\n",
      "Corredor 4 [101, 126, 119, 112, 106, 128, 151, 125, 104, 113]\n",
      "Corredor 5 [115, 114, 129, 104, 154, 92, 112, 118, 117, 132]\n",
      "Corredor 6 [123, 131, 137, 100, 102, 122, 92, 133, 114, 157]\n",
      "81\n",
      "1\n"
     ]
    }
   ],
   "source": [
    "nomes = *(f'Corredor {i+1}' for i in range(6)),\n",
    "tempos = {i: [0,0,0,0,0,0,0,0,0,0] for i in nomes}\n",
    "\n",
    "for corredor in tempos:\n",
    "    for volta in range(len(tempos[corredor])):\n",
    "        tempos[corredor][volta] = abs(round(random.normalvariate(120,20)))\n",
    "\n",
    "for i,j in tempos.items():\n",
    "    print(i, j)\n",
    "\n",
    "matrizResultados = list(tempos.values())\n",
    "melhoresTempos = [min(tempo) for tempo in matrizResultados]\n",
    "melhorTempo = min(melhoresTempos)\n",
    "\n",
    "print(melhorTempo)\n",
    "print(melhoresTempos.index(melhorTempo))\n",
    "\n",
    "corredorMelhorTempo, voltaMaisRapida = getCorredorMelhorTempo(tempos, melhorTempo)\n",
    "resultadoFinal = sorted(tempos.items(), key=lambda x:sum(x[1]))\n",
    "\n",
    "    \n"
   ]
  },
  {
   "cell_type": "code",
   "execution_count": 88,
   "metadata": {},
   "outputs": [
    {
     "name": "stdout",
     "output_type": "stream",
     "text": [
      "*******************************************\n",
      "* RESULTADO FINAL DA 37ª CORRIDA DO CÍRIO *\n",
      "*******************************************\n",
      "\n",
      "Corredor 2: .....................1.938 min.\n",
      "Corredor 4: .....................1.975 min.\n",
      "Corredor 5: .....................1.978 min.\n",
      "Corredor 1: .....................1.992 min.\n",
      "Corredor 6: .....................2.018 min.\n",
      "Corredor 3: ......................2.03 min.\n",
      "\n",
      "Melhor volta:\n",
      "Corredor 2 (9ª volta) - 81 s\n",
      "*******************************************\n"
     ]
    }
   ],
   "source": [
    "print(f'{\"*\"*43}')\n",
    "print(f'* RESULTADO FINAL DA 37ª CORRIDA DO CÍRIO *')\n",
    "print(f'{\"*\"*43}')\n",
    "print()\n",
    "for i,j in resultadoFinal:\n",
    "    print(f'{i: <}: {round(sum(j)/(600),3):.>26} min.')\n",
    "print()\n",
    "print(f'Melhor volta:\\n{corredorMelhorTempo} ({voltaMaisRapida+1}ª volta) - {tempos[corredorMelhorTempo][voltaMaisRapida]} s')\n",
    "print(f'{\"*\"*43}')"
   ]
  },
  {
   "cell_type": "markdown",
   "metadata": {},
   "source": [
    "# 3ª Questão"
   ]
  },
  {
   "cell_type": "code",
   "execution_count": 123,
   "metadata": {},
   "outputs": [],
   "source": [
    "def aprovados(d):\n",
    "    reprovados = []\n",
    "    for i,j in d.items():\n",
    "        for w in j:\n",
    "            if w < 7:\n",
    "                reprovados.append(i)\n",
    "                continue\n",
    "    aprovados = [i for i in d.keys() if i not in reprovados]\n",
    "    return aprovados\n"
   ]
  },
  {
   "cell_type": "code",
   "execution_count": 124,
   "metadata": {},
   "outputs": [],
   "source": [
    "D = {\n",
    "    'Darth   Vader':(7.5,8.0,6.5),\n",
    "    'Han Solo':(9.0,8.5,9.5),\n",
    "    'Chewbacca':(3.5,1.0,6.5)\n",
    "    }"
   ]
  },
  {
   "cell_type": "code",
   "execution_count": 125,
   "metadata": {},
   "outputs": [
    {
     "name": "stdout",
     "output_type": "stream",
     "text": [
      "['Han Solo']\n"
     ]
    }
   ],
   "source": [
    "print(aprovados(D))"
   ]
  },
  {
   "cell_type": "markdown",
   "metadata": {},
   "source": [
    "# 4ª Questão"
   ]
  },
  {
   "cell_type": "code",
   "execution_count": 96,
   "metadata": {},
   "outputs": [],
   "source": [
    "equipamentos = {\n",
    "    'ar-condicionado': 1600,\n",
    "    'computador': 350,\n",
    "    'chuveiro': 5000,\n",
    "    'ferro': 1000,\n",
    "    'lampada': 32,\n",
    "    'lavadora-roupas': 600,\n",
    "    'refrigerador': 350,\n",
    "    'tv': 200\n",
    "}\n",
    "\n",
    "bandeiras = {\n",
    "    'verde': .5,\n",
    "    'amarela': .53,\n",
    "    'vermelha': .56\n",
    "}"
   ]
  },
  {
   "cell_type": "code",
   "execution_count": 112,
   "metadata": {},
   "outputs": [
    {
     "name": "stdout",
     "output_type": "stream",
     "text": [
      "1 5000\n",
      "5.0\n",
      "0.2 1000\n",
      "5.2\n",
      "4.0 200\n",
      "6.0\n",
      "3.75\n"
     ]
    }
   ],
   "source": [
    "bandeiraMes = input(\"Insira a bandeira aplicada no mês: \")\n",
    "icmsEstado = float(input(\"Insira o valor do ICMS: \"))\n",
    "qtdEquipCliente = int(input(\"Insira a quantidade de equipamentos conectados à rede elétrica: \"))\n",
    "usoEquips = *((input(f'Insira o nome do equipamento {i+1} e o tempo de uso: ')).split() for i in range(qtdEquipCliente)),\n",
    "\n",
    "conta = 0\n",
    "for i in usoEquips:\n",
    "    conta += (float(i[1]) * equipamentos[i[0]])/1000\n",
    "conta *= bandeiras[bandeiraMes]\n",
    "conta += conta * icmsEstado\n",
    "\n",
    "print(conta)"
   ]
  },
  {
   "cell_type": "markdown",
   "metadata": {},
   "source": [
    "# Questão 5"
   ]
  },
  {
   "cell_type": "code",
   "execution_count": 1,
   "metadata": {},
   "outputs": [
    {
     "name": "stdout",
     "output_type": "stream",
     "text": [
      "{} {'Brucutu': '105', 'Crapper': '124', 'Hamer': '102', 'Squizer': '129', 'Gorilla': '99'}\n",
      "0\n",
      "100.0\n",
      "vazio\n"
     ]
    }
   ],
   "source": [
    "limites = input('Insira o limite inferior e o limite superior da categoria: ').split()\n",
    "nLutadores = int(input('Insira o numero de lutadores: '))\n",
    "lutadores = *(tuple(input(f'Insira o nome e o peso do lutador {i+1}').split()) for i in range(nLutadores)),\n",
    "lutadores = dict(lutadores)\n",
    "\n",
    "reprovados = {}\n",
    "aprovados = {}\n",
    "for nome, peso in lutadores.items():\n",
    "    if float(peso) > float(limites[1]) * 1.08 or float(peso) < float(limites[0]):\n",
    "        reprovados[nome] = peso\n",
    "    else:\n",
    "        aprovados[nome] = peso\n",
    "\n",
    "print(aprovados, reprovados)\n",
    "print(len(aprovados))\n",
    "print((len(reprovados) / len(lutadores) * 100))\n",
    "if len(aprovados) == 0:\n",
    "    print('vazio')\n",
    "else:\n",
    "    print(min(aprovados))"
   ]
  }
 ],
 "metadata": {
  "kernelspec": {
   "display_name": "base",
   "language": "python",
   "name": "python3"
  },
  "language_info": {
   "codemirror_mode": {
    "name": "ipython",
    "version": 3
   },
   "file_extension": ".py",
   "mimetype": "text/x-python",
   "name": "python",
   "nbconvert_exporter": "python",
   "pygments_lexer": "ipython3",
   "version": "3.9.7"
  },
  "orig_nbformat": 4,
  "vscode": {
   "interpreter": {
    "hash": "88279d2366fe020547cde40dd65aa0e3aa662a6ec1f3ca12d88834876c85e1a6"
   }
  }
 },
 "nbformat": 4,
 "nbformat_minor": 2
}
