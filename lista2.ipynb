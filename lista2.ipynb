{
 "cells": [
  {
   "cell_type": "markdown",
   "metadata": {},
   "source": [
    "### 1ª Questão"
   ]
  },
  {
   "cell_type": "code",
   "execution_count": 51,
   "metadata": {},
   "outputs": [
    {
     "name": "stdout",
     "output_type": "stream",
     "text": [
      "O salário informado foi: R$ 400.0\n",
      "\n",
      "% de reajuste: 15.0%\n",
      "Aumento de: R$ 60.0\n",
      "\n",
      "O novo salário será: R$ 460.0\n",
      "\n"
     ]
    }
   ],
   "source": [
    "salario = float(input('Insira o salário do colaborador: '))\n",
    "salario_reaj = salario * 1\n",
    "if salario <= 200:\n",
    "    salario_reaj *= 1.2\n",
    "elif salario <= 700:\n",
    "    salario_reaj *= 1.15\n",
    "elif salario <= 1500:\n",
    "    salario_reaj *= 1.1\n",
    "else:\n",
    "    salario_reaj *= 1.05\n",
    "\n",
    "percent_reajuste = round(((salario_reaj/salario)-1) * 100, 2)\n",
    "valor_aumento = round(salario_reaj - salario, 2)\n",
    "\n",
    "print(f\"\"\"O salário informado foi: R$ {salario}\n",
    "\n",
    "% de reajuste: {percent_reajuste}%\n",
    "Aumento de: R$ {valor_aumento}\n",
    "\n",
    "O novo salário será: R$ {round(salario_reaj, 2)}\n",
    "\"\"\")"
   ]
  },
  {
   "cell_type": "markdown",
   "metadata": {},
   "source": [
    "### 2ª Questão"
   ]
  },
  {
   "cell_type": "code",
   "execution_count": 70,
   "metadata": {},
   "outputs": [
    {
     "name": "stdout",
     "output_type": "stream",
     "text": [
      "Salário Bruto: (5.0 * 220.0)\tR$ 1100.0\n",
      "(-) IR (5.0%):\t\t\tR$ 55.0\n",
      "(-) INSS (10.0%):\t\tR$ 110.0\n",
      "FGTS (11%):\t\t\tR$ 121.0\n",
      "Total de descontos:\t\tR$ 165.0\n",
      "Salário Líquido:\t\tR$ 935.0\n",
      "\n"
     ]
    }
   ],
   "source": [
    "valor_hora = float(input('Insira o valor da hora de trabalho: '))\n",
    "qtd_horas = float(input('Insira a quantidade de horas trabalhadas: '))\n",
    "salario_bruto = valor_hora * qtd_horas\n",
    "\n",
    "tabela_descontos = ((900, 0), (1500, .05), (2500, .10))\n",
    "desconto_IR = salario_bruto * .2\n",
    "for i in tabela_descontos:\n",
    "    if salario_bruto <= i[0]:\n",
    "        desconto_IR = salario_bruto * i[1]\n",
    "        break\n",
    "\n",
    "inss = salario_bruto * .1\n",
    "total_descontos = desconto_IR + inss\n",
    "fgts = salario_bruto * .11\n",
    "salario_liquido = salario_bruto - (desconto_IR + inss)\n",
    "\n",
    "print(f\"\"\"Salário Bruto: ({qtd_horas} * {valor_hora})\\tR$ {salario_bruto}\n",
    "(-) IR ({(desconto_IR / salario_bruto) * 100}%):\\t\\t\\tR$ {desconto_IR}\n",
    "(-) INSS ({(inss/salario_bruto)*100}%):\\t\\tR$ {inss}\n",
    "FGTS (11%):\\t\\t\\tR$ {fgts}\n",
    "Total de descontos:\\t\\tR$ {desconto_IR + inss}\n",
    "Salário Líquido:\\t\\tR$ {salario_liquido}\n",
    "\"\"\")"
   ]
  },
  {
   "cell_type": "markdown",
   "metadata": {},
   "source": [
    "### 3ª Questão"
   ]
  },
  {
   "cell_type": "code",
   "execution_count": 75,
   "metadata": {},
   "outputs": [
    {
     "name": "stdout",
     "output_type": "stream",
     "text": [
      "O número informado é inválido.\n"
     ]
    }
   ],
   "source": [
    "semana = {\n",
    "    1:'domingo',\n",
    "    2:'segunda-feira',\n",
    "    3:'terça-feira',\n",
    "    4:'quarta-feira',\n",
    "    5:'quinta-feira',\n",
    "    6:'sexta-feira',\n",
    "    7:'sábado'\n",
    "}\n",
    "dia_escolhido = int(input('Escolha o número correspondente ao dia da semana: '))\n",
    "if dia_escolhido not in semana.keys():\n",
    "    print('O número informado é inválido.')\n",
    "else:\n",
    "    print(f'O número {dia_escolhido} corresponde à {semana[dia_escolhido]}.')"
   ]
  },
  {
   "cell_type": "markdown",
   "metadata": {},
   "source": [
    "### 4ª Questão"
   ]
  },
  {
   "cell_type": "code",
   "execution_count": 13,
   "metadata": {},
   "outputs": [
    {
     "name": "stdout",
     "output_type": "stream",
     "text": [
      "7.5 B\n"
     ]
    }
   ],
   "source": [
    "n1, n2 = (float(input(f'Insira a nota {i+1}')) for i in range(2))\n",
    "media = (n1+n2)/2\n",
    "atrib_conceitos = ('E', 'D', 'C', 'B', 'A')\n",
    "intervalos = (4, 6, 7.5, 9, 10)\n",
    "conceito_aluno = 'A'\n",
    "for i in range(len(atrib_conceitos)):\n",
    "    if media < intervalos[i]:\n",
    "        conceito_aluno = atrib_conceitos[i]\n",
    "        break\n",
    "print(media, conceito_aluno)"
   ]
  },
  {
   "cell_type": "markdown",
   "metadata": {},
   "source": [
    "### 5ª Questão"
   ]
  },
  {
   "cell_type": "code",
   "execution_count": 30,
   "metadata": {},
   "outputs": [
    {
     "name": "stdout",
     "output_type": "stream",
     "text": [
      "Os lados não formam um triângulo\n"
     ]
    }
   ],
   "source": [
    "l1, l2, l3 = (float(input(f'Insira o lado {i+1}: ')) for i in range(3))\n",
    "se_triangulo = (l1+l2>l3 or l1+l3>l2 or l2+l3>l1) and (l1 > 0 and l2 > 0 and l3 > 0)\n",
    "\n",
    "if l1 == l2 and l2 == l3 and l1 == l3:\n",
    "    tipo = 'equilátero'\n",
    "elif l1 != l2 and l2 != l3 and l1 != l3:\n",
    "    tipo = 'escaleno'\n",
    "else:\n",
    "    tipo = 'isóceles'\n",
    "\n",
    "print(f'O triângulo é do tipo {tipo}.' if se_triangulo else 'Os lados não formam um triângulo')"
   ]
  },
  {
   "cell_type": "markdown",
   "metadata": {},
   "source": [
    "### 6ª Questão"
   ]
  },
  {
   "cell_type": "code",
   "execution_count": null,
   "metadata": {},
   "outputs": [],
   "source": []
  },
  {
   "cell_type": "markdown",
   "metadata": {},
   "source": [
    "#### Bônus: Pedra, papel e tesoura"
   ]
  },
  {
   "cell_type": "code",
   "execution_count": 19,
   "metadata": {},
   "outputs": [
    {
     "name": "stdout",
     "output_type": "stream",
     "text": [
      "Jogador 1 ganhou!\n"
     ]
    }
   ],
   "source": [
    "# Jogador x Jogador\n",
    "n1, n2 = (int(input(f'Jogador {i+1}, escolha:\\n[0] Pedra\\n[1] Papel\\n[2] Tesoura')) for i in range(2))\n",
    "print(f\"Jogador {(n1-n2)%3} ganhou!\" if n1 != n2 else \"Empate!\")"
   ]
  },
  {
   "cell_type": "code",
   "execution_count": 46,
   "metadata": {},
   "outputs": [
    {
     "name": "stdout",
     "output_type": "stream",
     "text": [
      "O jogador ganhou! Pedra ganha de tesoura.\n"
     ]
    }
   ],
   "source": [
    "# Jogador x Jogador ou Jogador x Maquina\n",
    "import random\n",
    "# Valores possíveis\n",
    "v = {0:'pedra', 1:'papel', 2:'tesoura'}\n",
    "# Seleção de jogo contra humano ou jogo contra o computador\n",
    "c = int(input(\"Escolha:\\n[0] Adversário humano\\n[1] Jogar contra a máquina\"))\n",
    "if c:\n",
    "    n1, n2 = int(input(f'Jogador, escolha:\\n[0] Pedra\\n[1] Papel\\n[2] Tesoura')), random.randint(0, 3)\n",
    "    print(f\"O jogador ganhou! {(v[n1]).title()} ganha de {v[n2]}.\" if n1 != n2 and (n1-n2)%3 == 1 else f\"A máquina vence! {(v[n2]).title()} ganha de {v[n1]}.\" if (n1-n2)%3 == 2 else \"Empate!\")\n",
    "else:\n",
    "    n1, n2 = (int(input(f'Jogador {i+1}, escolha:\\n[0] Pedra\\n[1] Papel\\n[2] Tesoura')) for i in range(2))\n",
    "    print(f\"Jogador {(n1-n2)%3} ganhou!\" if n1 != n2 else \"Empate!\")"
   ]
  }
 ],
 "metadata": {
  "kernelspec": {
   "display_name": "Python 3.9.7 ('base')",
   "language": "python",
   "name": "python3"
  },
  "language_info": {
   "codemirror_mode": {
    "name": "ipython",
    "version": 3
   },
   "file_extension": ".py",
   "mimetype": "text/x-python",
   "name": "python",
   "nbconvert_exporter": "python",
   "pygments_lexer": "ipython3",
   "version": "3.9.7"
  },
  "orig_nbformat": 4,
  "vscode": {
   "interpreter": {
    "hash": "88279d2366fe020547cde40dd65aa0e3aa662a6ec1f3ca12d88834876c85e1a6"
   }
  }
 },
 "nbformat": 4,
 "nbformat_minor": 2
}
