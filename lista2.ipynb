{
 "cells": [
  {
   "cell_type": "markdown",
   "metadata": {},
   "source": [
    "### 1ª Questão"
   ]
  },
  {
   "cell_type": "code",
   "execution_count": 51,
   "metadata": {},
   "outputs": [
    {
     "name": "stdout",
     "output_type": "stream",
     "text": [
      "O salário informado foi: R$ 400.0\n",
      "\n",
      "% de reajuste: 15.0%\n",
      "Aumento de: R$ 60.0\n",
      "\n",
      "O novo salário será: R$ 460.0\n",
      "\n"
     ]
    }
   ],
   "source": [
    "salario = float(input('Insira o salário do colaborador: '))\n",
    "salario_reaj = salario * 1\n",
    "if salario <= 200:\n",
    "    salario_reaj *= 1.2\n",
    "elif salario <= 700:\n",
    "    salario_reaj *= 1.15\n",
    "elif salario <= 1500:\n",
    "    salario_reaj *= 1.1\n",
    "else:\n",
    "    salario_reaj *= 1.05\n",
    "\n",
    "percent_reajuste = round(((salario_reaj/salario)-1) * 100, 2)\n",
    "valor_aumento = round(salario_reaj - salario, 2)\n",
    "\n",
    "print(f\"\"\"O salário informado foi: R$ {salario}\n",
    "\n",
    "% de reajuste: {percent_reajuste}%\n",
    "Aumento de: R$ {valor_aumento}\n",
    "\n",
    "O novo salário será: R$ {round(salario_reaj, 2)}\n",
    "\"\"\")"
   ]
  },
  {
   "cell_type": "markdown",
   "metadata": {},
   "source": [
    "### 2ª Questão"
   ]
  },
  {
   "cell_type": "code",
   "execution_count": 70,
   "metadata": {},
   "outputs": [
    {
     "name": "stdout",
     "output_type": "stream",
     "text": [
      "Salário Bruto: (5.0 * 220.0)\tR$ 1100.0\n",
      "(-) IR (5.0%):\t\t\tR$ 55.0\n",
      "(-) INSS (10.0%):\t\tR$ 110.0\n",
      "FGTS (11%):\t\t\tR$ 121.0\n",
      "Total de descontos:\t\tR$ 165.0\n",
      "Salário Líquido:\t\tR$ 935.0\n",
      "\n"
     ]
    }
   ],
   "source": [
    "valor_hora = float(input('Insira o valor da hora de trabalho: '))\n",
    "qtd_horas = float(input('Insira a quantidade de horas trabalhadas: '))\n",
    "salario_bruto = valor_hora * qtd_horas\n",
    "\n",
    "tabela_descontos = ((900, 0), (1500, .05), (2500, .10))\n",
    "desconto_IR = salario_bruto * .2\n",
    "for i in tabela_descontos:\n",
    "    if salario_bruto <= i[0]:\n",
    "        desconto_IR = salario_bruto * i[1]\n",
    "        break\n",
    "\n",
    "inss = salario_bruto * .1\n",
    "total_descontos = desconto_IR + inss\n",
    "fgts = salario_bruto * .11\n",
    "salario_liquido = salario_bruto - (desconto_IR + inss)\n",
    "\n",
    "print(f\"\"\"Salário Bruto: ({qtd_horas} * {valor_hora})\\tR$ {salario_bruto}\n",
    "(-) IR ({(desconto_IR / salario_bruto) * 100}%):\\t\\t\\tR$ {desconto_IR}\n",
    "(-) INSS ({(inss/salario_bruto)*100}%):\\t\\tR$ {inss}\n",
    "FGTS (11%):\\t\\t\\tR$ {fgts}\n",
    "Total de descontos:\\t\\tR$ {desconto_IR + inss}\n",
    "Salário Líquido:\\t\\tR$ {salario_liquido}\n",
    "\"\"\")"
   ]
  },
  {
   "cell_type": "markdown",
   "metadata": {},
   "source": [
    "### 3ª Questão"
   ]
  },
  {
   "cell_type": "code",
   "execution_count": 75,
   "metadata": {},
   "outputs": [
    {
     "name": "stdout",
     "output_type": "stream",
     "text": [
      "O número informado é inválido.\n"
     ]
    }
   ],
   "source": [
    "semana = {\n",
    "    1:'domingo',\n",
    "    2:'segunda-feira',\n",
    "    3:'terça-feira',\n",
    "    4:'quarta-feira',\n",
    "    5:'quinta-feira',\n",
    "    6:'sexta-feira',\n",
    "    7:'sábado'\n",
    "}\n",
    "dia_escolhido = int(input('Escolha o número correspondente ao dia da semana: '))\n",
    "if dia_escolhido not in semana.keys():\n",
    "    print('O número informado é inválido.')\n",
    "else:\n",
    "    print(f'O número {dia_escolhido} corresponde à {semana[dia_escolhido]}.')"
   ]
  },
  {
   "cell_type": "markdown",
   "metadata": {},
   "source": [
    "### 4ª Questão"
   ]
  },
  {
   "cell_type": "code",
   "execution_count": 13,
   "metadata": {},
   "outputs": [
    {
     "name": "stdout",
     "output_type": "stream",
     "text": [
      "7.5 B\n"
     ]
    }
   ],
   "source": [
    "n1, n2 = (float(input(f'Insira a nota {i+1}')) for i in range(2))\n",
    "media = (n1+n2)/2\n",
    "atrib_conceitos = ('E', 'D', 'C', 'B', 'A')\n",
    "intervalos = (4, 6, 7.5, 9, 10)\n",
    "conceito_aluno = 'A'\n",
    "for i in range(len(atrib_conceitos)):\n",
    "    if media < intervalos[i]:\n",
    "        conceito_aluno = atrib_conceitos[i]\n",
    "        break\n",
    "print(media, conceito_aluno)"
   ]
  },
  {
   "cell_type": "markdown",
   "metadata": {},
   "source": [
    "### 5ª Questão"
   ]
  },
  {
   "cell_type": "code",
   "execution_count": 30,
   "metadata": {},
   "outputs": [
    {
     "name": "stdout",
     "output_type": "stream",
     "text": [
      "Os lados não formam um triângulo\n"
     ]
    }
   ],
   "source": [
    "l1, l2, l3 = (float(input(f'Insira o lado {i+1}: ')) for i in range(3))\n",
    "se_triangulo = (l1+l2>l3 or l1+l3>l2 or l2+l3>l1) and (l1 > 0 and l2 > 0 and l3 > 0)\n",
    "\n",
    "if l1 == l2 and l2 == l3 and l1 == l3:\n",
    "    tipo = 'equilátero'\n",
    "elif l1 != l2 and l2 != l3 and l1 != l3:\n",
    "    tipo = 'escaleno'\n",
    "else:\n",
    "    tipo = 'isóceles'\n",
    "\n",
    "print(f'O triângulo é do tipo {tipo}.' if se_triangulo else 'Os lados não formam um triângulo')"
   ]
  },
  {
   "cell_type": "markdown",
   "metadata": {},
   "source": [
    "### 6ª Questão"
   ]
  },
  {
   "cell_type": "code",
   "execution_count": 26,
   "metadata": {},
   "outputs": [
    {
     "name": "stdout",
     "output_type": "stream",
     "text": [
      "A equação não é de segundo grau. Programa encerrado.\n"
     ]
    }
   ],
   "source": [
    "def eq_quadratica():\n",
    "    a = float(input(f'Insira o valor de a: '))\n",
    "    if a == 0:\n",
    "        return 'A equação não é de segundo grau. Programa encerrado.'\n",
    "    b, c = (float(input(f'Insira o valor de {i}: ')) for i in ('b', 'c'))\n",
    "    \n",
    "    delta = (b**2)-(4*a*c)\n",
    "    def raiz_pos(a, b, c, delta):\n",
    "        x1 = (-b+(delta**0.5))/(2*a)\n",
    "        return x1\n",
    "    def raiz_neg(a, b, c, delta):\n",
    "        x2 = (-b-(delta**0.5))/(2*a)\n",
    "        return x2\n",
    "    \n",
    "    if delta < 0:\n",
    "        return 'A equação não possui raízes reais. Programa encerrado.'\n",
    "    elif delta == 0:\n",
    "        return f'A equação possui uma única raiz: {raiz_pos(a, b, c, delta)}.' \n",
    "    else:\n",
    "        print(f'As raízes da equação são {raiz_pos(a, b, c, delta)} e {raiz_neg(a, b, c, delta)}.')\n",
    "        return (raiz_pos(a, b, c, delta), raiz_neg(a, b, c, delta))\n",
    "\n",
    "print(eq_quadratica())"
   ]
  },
  {
   "cell_type": "markdown",
   "metadata": {},
   "source": [
    "### 7ª Questão"
   ]
  },
  {
   "cell_type": "code",
   "execution_count": null,
   "metadata": {},
   "outputs": [],
   "source": [
    "ano = int(input('Insira o ano: '))\n",
    "if (ano%4==0 and ano%100!=0) or (ano%400==0):\n",
    "    print('Bissexto')\n",
    "else:\n",
    "    print('Não é bissexto')"
   ]
  },
  {
   "cell_type": "markdown",
   "metadata": {},
   "source": [
    "### 8ª Questão"
   ]
  },
  {
   "cell_type": "code",
   "execution_count": 43,
   "metadata": {},
   "outputs": [
    {
     "name": "stdout",
     "output_type": "stream",
     "text": [
      "12/11/1987 é uma data válida.\n"
     ]
    }
   ],
   "source": [
    "data = input(\"Informe uma data no formato dd/mm/aaaa: \")\n",
    "try:\n",
    "    dia, mes, ano = *(int(i) for i in data.split('/')),\n",
    "except:\n",
    "    raise Exception('A data informada é inválida')\n",
    "else:\n",
    "    mes30 = (4, 6, 9, 11)\n",
    "    mes31 = (1, 3, 5, 7, 8, 10, 12)\n",
    "    bissexto = (ano%4==0 and ano%100!=0) or (ano%400==0)\n",
    "\n",
    "    if 0 in (dia, mes, ano):\n",
    "        print(f'{data} é uma data inválida.')\n",
    "    elif mes in mes30 and dia > 30:\n",
    "        print(f'{data} é uma data inválida.')\n",
    "    elif mes in mes31 and dia > 30:\n",
    "        print(f'{data} é uma data inválida.')\n",
    "    elif mes == 2 and bissexto and dia > 29:\n",
    "        print(f'{data} é uma data inválida.')\n",
    "    elif mes == 2 and dia > 28:\n",
    "        print(f'{data} é uma data inválida.')\n",
    "    elif mes > 12:\n",
    "        print(f'{data} é uma data inválida.')\n",
    "    else:\n",
    "        print(f'{data} é uma data válida.')"
   ]
  },
  {
   "cell_type": "markdown",
   "metadata": {},
   "source": [
    "### 9ª Questão"
   ]
  },
  {
   "cell_type": "code",
   "execution_count": 25,
   "metadata": {},
   "outputs": [
    {
     "name": "stdout",
     "output_type": "stream",
     "text": [
      "O número informado tem 2 dezenas e 7 unidades.\n"
     ]
    }
   ],
   "source": [
    "def plural(variavel, numero):\n",
    "    if numero == 0:\n",
    "        variavel_out = ''\n",
    "    elif variavel == 1:\n",
    "        variavel_out = '1 ' + variavel\n",
    "    else:\n",
    "        variavel_out = str(numero) + \" \" + variavel + 's'\n",
    "    return variavel_out\n",
    "\n",
    "numero = int(input('Insira um número inteiro menor que 1000: '))\n",
    "if numero >= 1000:\n",
    "    print('Número inválido. O número tem que ser menor do que 1000.')\n",
    "else:\n",
    "    centenas, resto = divmod(numero, 100)\n",
    "    dezenas, unidades = divmod(resto, 10)\n",
    "\n",
    "separadores = sum(i > 0 for i in (centenas, dezenas, unidades))\n",
    "if separadores == 1:\n",
    "    sep1, sep2 = '', ''\n",
    "elif separadores == 2:\n",
    "    sep1, sep2 = '', ' e '\n",
    "elif separadores == 3:\n",
    "    sep1, sep2 = ', ', ' e '\n",
    "\n",
    "print(f'O número informado tem {plural(\"centena\", centenas)}{sep1}{plural(\"dezena\", dezenas)}{sep2}{plural(\"unidade\", unidades)}.')"
   ]
  },
  {
   "cell_type": "markdown",
   "metadata": {},
   "source": [
    "### 10ª Questão"
   ]
  },
  {
   "cell_type": "code",
   "execution_count": 40,
   "metadata": {},
   "outputs": [
    {
     "name": "stdout",
     "output_type": "stream",
     "text": [
      "Média  10! Aprovado com distinção!\n"
     ]
    }
   ],
   "source": [
    "n1, n2, n3 = (float(input(f'Insira a nota {i+1}')) for i in range(3))\n",
    "media = (n1+n2+n3)/3\n",
    "\n",
    "if media == 10:\n",
    "    print(f'Média {media: .0f}! Aprovado com distinção!')\n",
    "elif media > 7:\n",
    "    print(f'Média {media: .2} - Aprovado')\n",
    "else:\n",
    "    print(f'Média {media: .2} - Reprovado')"
   ]
  },
  {
   "cell_type": "markdown",
   "metadata": {},
   "source": [
    "### 11ª Questão"
   ]
  },
  {
   "cell_type": "code",
   "execution_count": 54,
   "metadata": {},
   "outputs": [
    {
     "name": "stdout",
     "output_type": "stream",
     "text": [
      "Valor a sacar: R$ 399.0\n",
      "Ejetando notas\n",
      "100:\t  3\n",
      "50:\t  1\n",
      "10:\t  4\n",
      "5:\t  1\n",
      "1:\t  4\n",
      "\n"
     ]
    }
   ],
   "source": [
    "valor_saque = float(input(\"Insira o valor do saque (R$): \"))\n",
    "\n",
    "if valor_saque >= 10 and valor_saque <= 600:\n",
    "    cem, resto = divmod(valor_saque, 100)\n",
    "    cinquenta, resto = divmod(resto, 50)\n",
    "    dez, resto = divmod(resto, 10)\n",
    "    cinco, um = divmod(resto, 5)\n",
    "\n",
    "else:\n",
    "    raise Exception('Valor fora dos limites')\n",
    "\n",
    "print(f'''Valor a sacar: R$ {valor_saque}\n",
    "Ejetando notas\n",
    "100:\\t {cem: .0f}\n",
    "50:\\t {cinquenta: .0f}\n",
    "10:\\t {dez: .0f}\n",
    "5:\\t {cinco: .0f}\n",
    "1:\\t {um: .0f}\n",
    "''')"
   ]
  },
  {
   "cell_type": "markdown",
   "metadata": {},
   "source": [
    "### 12ª Questão"
   ]
  },
  {
   "cell_type": "code",
   "execution_count": 61,
   "metadata": {},
   "outputs": [
    {
     "name": "stdout",
     "output_type": "stream",
     "text": [
      "O número informado é ímpar.\n"
     ]
    }
   ],
   "source": [
    "numero = int(input(\"Insira um número: \"))\n",
    "print('O número informado é par.' if numero%2==0 else 'O número informado é ímpar.')"
   ]
  },
  {
   "cell_type": "markdown",
   "metadata": {},
   "source": [
    "### 13ª Questão"
   ]
  },
  {
   "cell_type": "code",
   "execution_count": 87,
   "metadata": {},
   "outputs": [
    {
     "name": "stdout",
     "output_type": "stream",
     "text": [
      "Inteiro\n"
     ]
    }
   ],
   "source": [
    "numero = float(input('Insira um número: '))\n",
    "if round(numero,0) != numero:\n",
    "    print('Decimal')\n",
    "else:\n",
    "    print('Inteiro')"
   ]
  },
  {
   "cell_type": "markdown",
   "metadata": {},
   "source": [
    "### 14ª Questão"
   ]
  },
  {
   "cell_type": "code",
   "execution_count": 90,
   "metadata": {},
   "outputs": [
    {
     "name": "stdout",
     "output_type": "stream",
     "text": [
      "Resultado: 6.0 que é um número par, inteiro e positivo.\n"
     ]
    }
   ],
   "source": [
    "n1, n2 = (float(input(f'Insira o número {i+1}')) for i in range(2))\n",
    "operacao = int(input('Escolha a operação desejada\\n[0] Adição\\n[1] Subtração\\n[2] Multiplicação\\n[3] Divisão'))\n",
    "if operacao == 0:\n",
    "    resultado = n1+n2\n",
    "elif operacao == 1:\n",
    "    resultado = n1-n2\n",
    "elif operacao == 2:\n",
    "    resultado = n1*n2\n",
    "elif operacao == 3:\n",
    "    resultado = n1/n2\n",
    "\n",
    "if resultado%2 == 0:\n",
    "    par = \"par\"\n",
    "else:\n",
    "    par = 'ímpar'\n",
    "\n",
    "if round(numero,0) != numero:\n",
    "    decimal = 'decimal'\n",
    "else:\n",
    "    decimal = 'inteiro'\n",
    "\n",
    "if resultado >= 0:\n",
    "    positivo = 'positivo'\n",
    "else:\n",
    "    positivo = 'negativo'\n",
    "\n",
    "print(f'Resultado: {resultado} que é um número {par}, {decimal} e {positivo}.')"
   ]
  },
  {
   "cell_type": "markdown",
   "metadata": {},
   "source": [
    "### 15ª Questão"
   ]
  },
  {
   "cell_type": "code",
   "execution_count": 100,
   "metadata": {},
   "outputs": [
    {
     "name": "stdout",
     "output_type": "stream",
     "text": [
      "Assassino!\n"
     ]
    }
   ],
   "source": [
    "perguntas = (\n",
    "    'Telefonou para a vítima?',\n",
    "    'Esteve no local do crime?',\n",
    "    'Mora perto da vítima?',\n",
    "    'Devia para a vítima?',\n",
    "    'Já trabalhou com a vítima?'\n",
    ")\n",
    "\n",
    "respostas = sum((int(input(i + '\\n[0]Não\\n[1]Sim')) for i in perguntas))\n",
    "\n",
    "if respostas == 2:\n",
    "    veredito = 'Suspeita'\n",
    "elif respostas <= 4:\n",
    "    veredito = 'Cúmplice'\n",
    "elif respostas == 5:\n",
    "    veredito = 'Assassino!'\n",
    "else:\n",
    "    veredito =  'Inocente'\n",
    "\n",
    "print(veredito)"
   ]
  },
  {
   "cell_type": "markdown",
   "metadata": {},
   "source": [
    "### 16ª Questão"
   ]
  },
  {
   "cell_type": "code",
   "execution_count": 102,
   "metadata": {},
   "outputs": [
    {
     "name": "stdout",
     "output_type": "stream",
     "text": [
      "Total devido (20.0 L de álcool):\n",
      "R$ 36.86\n"
     ]
    }
   ],
   "source": [
    "combustivel = int(input('Escolha o tipo de combustível\\n[0] Álcool\\n[1] Gasolina'))\n",
    "litros = float(input('Insira o valor (em litros) a ser abastecido: '))\n",
    "preco_a = 1.9\n",
    "preco_g = 2.5\n",
    "\n",
    "if combustivel == 0:\n",
    "    if litros <= 20:\n",
    "        preco_a *= .97\n",
    "    else:\n",
    "        preco_a *= .95\n",
    "    print(f'Total devido ({litros} L de álcool):\\nR$ {preco_a * litros}')\n",
    "else:\n",
    "    if litros <= 20:\n",
    "        preco_a *= .96\n",
    "    else:\n",
    "        preco_a *= .94\n",
    "    print(f'Total devido ({litros} litros de gasolina):\\nR$ {preco_a * litros}')"
   ]
  },
  {
   "cell_type": "markdown",
   "metadata": {},
   "source": [
    "### 17ª Questão"
   ]
  },
  {
   "cell_type": "code",
   "execution_count": 108,
   "metadata": {},
   "outputs": [
    {
     "name": "stdout",
     "output_type": "stream",
     "text": [
      "O valor total da compra é: R$ 12.15\n"
     ]
    }
   ],
   "source": [
    "preco_morango = (2.5, 2.2)\n",
    "preco_maca = (1.8, 1.5)\n",
    "\n",
    "k_morango, k_maca = (float(input(f'Insira a quantidade (em Kg) de {i}: ')) for i in ('morangos', 'maçãs'))\n",
    "\n",
    "if k_morango <= 5:\n",
    "    total_morango = k_morango * preco_morango[0]\n",
    "else:\n",
    "    total_morango = k_morango * preco_morango[1]\n",
    "\n",
    "if k_maca <= 5:\n",
    "    total_maca = k_maca * preco_maca[0]\n",
    "else:\n",
    "    total_maca = k_maca * preco_maca[1]\n",
    "\n",
    "peso_total = k_morango + k_maca\n",
    "total = total_morango + total_maca\n",
    "\n",
    "if peso_total > 8:\n",
    "    total *= .9\n",
    "\n",
    "print(f'O valor total da compra é: R$ {total}')"
   ]
  },
  {
   "cell_type": "markdown",
   "metadata": {},
   "source": [
    "### 18ª Questão"
   ]
  },
  {
   "cell_type": "code",
   "execution_count": 124,
   "metadata": {},
   "outputs": [
    {
     "name": "stdout",
     "output_type": "stream",
     "text": [
      "=============== CUPOM FISCAL ===============\n",
      "Tipo de carne: \t\tPicanha\n",
      "Qtd.: \t\t\t2.0 Kg\n",
      "Preço total: \t\tR$  13.80\n",
      "Cart. Tabajara: \tnão\n",
      "\n",
      "O cliente economizou R$ 0.00.\n",
      "============================================\n"
     ]
    }
   ],
   "source": [
    "lista_produtos = (\n",
    "    ('Filé duplo', 4.9, 5.8),\n",
    "    ('Alcatra', 5.9, 6.8),\n",
    "    ('Picanha', 6.9, 7.8)\n",
    ")\n",
    "\n",
    "produto = int(input('Insira o produto desejado:\\n[0] Filé Duplo\\n[1] Alcatra\\n[2] Picanha'))\n",
    "peso = float(input('Insira a quantidade (em Kg): '))\n",
    "cartao = int(input('Compra efetuada com cartão Tabajara:\\n[0] Não\\n[1] Sim'))\n",
    "\n",
    "if peso > 5:\n",
    "    preco = 2\n",
    "else:\n",
    "    preco = 1\n",
    "\n",
    "tipo = lista_produtos[produto][0]\n",
    "total = lista_produtos[produto][preco] * peso\n",
    "desconto = 0\n",
    "\n",
    "if cartao:\n",
    "    desconto = total * .05\n",
    "    total -= desconto\n",
    "\n",
    "print(f'''{'=' * 15} CUPOM FISCAL {'=' * 15}\n",
    "Tipo de carne: \\t\\t{tipo}\n",
    "Qtd.: \\t\\t\\t{peso} Kg\n",
    "Preço total: \\t\\tR$ {total: .2f}\n",
    "Cart. Tabajara: \\t{'não' if cartao == 0 else 'sim'}\n",
    "\n",
    "O cliente economizou R${desconto: .2f}.\n",
    "{'=' * (30+len(' cupom fiscal '))}''')"
   ]
  },
  {
   "cell_type": "markdown",
   "metadata": {},
   "source": [
    "#### Bônus: Pedra, papel e tesoura"
   ]
  },
  {
   "cell_type": "code",
   "execution_count": 19,
   "metadata": {},
   "outputs": [
    {
     "name": "stdout",
     "output_type": "stream",
     "text": [
      "Jogador 1 ganhou!\n"
     ]
    }
   ],
   "source": [
    "# Jogador x Jogador\n",
    "n1, n2 = (int(input(f'Jogador {i+1}, escolha:\\n[0] Pedra\\n[1] Papel\\n[2] Tesoura')) for i in range(2))\n",
    "print(f\"Jogador {(n1-n2)%3} ganhou!\" if n1 != n2 else \"Empate!\")"
   ]
  },
  {
   "cell_type": "code",
   "execution_count": 46,
   "metadata": {},
   "outputs": [
    {
     "name": "stdout",
     "output_type": "stream",
     "text": [
      "O jogador ganhou! Pedra ganha de tesoura.\n"
     ]
    }
   ],
   "source": [
    "# Jogador x Jogador ou Jogador x Maquina\n",
    "import random\n",
    "# Valores possíveis\n",
    "v = {0:'pedra', 1:'papel', 2:'tesoura'}\n",
    "# Seleção de jogo contra humano ou jogo contra o computador\n",
    "c = int(input(\"Escolha:\\n[0] Adversário humano\\n[1] Jogar contra a máquina\"))\n",
    "if c:\n",
    "    n1, n2 = int(input(f'Jogador, escolha:\\n[0] Pedra\\n[1] Papel\\n[2] Tesoura')), random.randint(0, 3)\n",
    "    print(f\"O jogador ganhou! {(v[n1]).title()} ganha de {v[n2]}.\" if n1 != n2 and (n1-n2)%3 == 1 else f\"A máquina vence! {(v[n2]).title()} ganha de {v[n1]}.\" if (n1-n2)%3 == 2 else \"Empate!\")\n",
    "else:\n",
    "    n1, n2 = (int(input(f'Jogador {i+1}, escolha:\\n[0] Pedra\\n[1] Papel\\n[2] Tesoura')) for i in range(2))\n",
    "    print(f\"Jogador {(n1-n2)%3} ganhou!\" if n1 != n2 else \"Empate!\")"
   ]
  }
 ],
 "metadata": {
  "interpreter": {
   "hash": "6a1d5a34a6148f928fe8d94a7f7550ba7627b8573fb2d58ce04a81794cddb688"
  },
  "kernelspec": {
   "display_name": "Python 3.9.2 ('my_conda')",
   "language": "python",
   "name": "python3"
  },
  "language_info": {
   "codemirror_mode": {
    "name": "ipython",
    "version": 3
   },
   "file_extension": ".py",
   "mimetype": "text/x-python",
   "name": "python",
   "nbconvert_exporter": "python",
   "pygments_lexer": "ipython3",
   "version": "3.9.2"
  },
  "orig_nbformat": 4,
  "vscode": {
   "interpreter": {
    "hash": "88279d2366fe020547cde40dd65aa0e3aa662a6ec1f3ca12d88834876c85e1a6"
   }
  }
 },
 "nbformat": 4,
 "nbformat_minor": 2
}
