{
 "cells": [
  {
   "cell_type": "markdown",
   "metadata": {},
   "source": [
    "### 1 Questão"
   ]
  },
  {
   "cell_type": "code",
   "execution_count": 4,
   "metadata": {},
   "outputs": [
    {
     "name": "stdout",
     "output_type": "stream",
     "text": [
      "O salário informado foi: R$ 400.0\n",
      "\n",
      "% de reajuste: 15.0%\n",
      "Aumento de: R$ 60.0\n",
      "\n",
      "O novo salário será: R$ 460.0\n",
      "\n"
     ]
    }
   ],
   "source": [
    "salario = float(input('Insira o salário do colaborador: '))\n",
    "salario_reaj = salario * 1\n",
    "if salario <= 200:\n",
    "    salario_reaj *= 1.2\n",
    "elif salario <= 700:\n",
    "    salario_reaj *= 1.15\n",
    "elif salario <= 1500:\n",
    "    salario_reaj *= 1.1\n",
    "else:\n",
    "    salario_reaj *= 1.05\n",
    "\n",
    "percent_reajuste = round(((salario_reaj/salario)-1) * 100, 2)\n",
    "valor_aumento = round(salario_reaj - salario, 2)\n",
    "\n",
    "print(f\"\"\"O salário informado foi: R$ {salario}\n",
    "\n",
    "% de reajuste: {percent_reajuste}%\n",
    "Aumento de: R$ {valor_aumento}\n",
    "\n",
    "O novo salário será: R$ {round(salario_reaj, 2)}\n",
    "\"\"\")"
   ]
  }
 ],
 "metadata": {
  "kernelspec": {
   "display_name": "Python 3.9.7 ('base')",
   "language": "python",
   "name": "python3"
  },
  "language_info": {
   "codemirror_mode": {
    "name": "ipython",
    "version": 3
   },
   "file_extension": ".py",
   "mimetype": "text/x-python",
   "name": "python",
   "nbconvert_exporter": "python",
   "pygments_lexer": "ipython3",
   "version": "3.9.7"
  },
  "orig_nbformat": 4,
  "vscode": {
   "interpreter": {
    "hash": "88279d2366fe020547cde40dd65aa0e3aa662a6ec1f3ca12d88834876c85e1a6"
   }
  }
 },
 "nbformat": 4,
 "nbformat_minor": 2
}
