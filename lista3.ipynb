{
 "cells": [
  {
   "cell_type": "markdown",
   "metadata": {},
   "source": [
    "### Questão 1"
   ]
  },
  {
   "cell_type": "code",
   "execution_count": 2,
   "metadata": {},
   "outputs": [
    {
     "name": "stdout",
     "output_type": "stream",
     "text": [
      "2\n",
      "-16\n",
      "Numero negativo detectado! Encerrando.\n",
      "[0-25]: 1\n",
      "[26-50]: 0\n",
      "[51-75]: 0\n",
      "[76-100]: 0\n",
      "\n"
     ]
    }
   ],
   "source": [
    "import random\n",
    "quantidadeNumeros = int(input('insira a quantidade de números: '))\n",
    "intervalos = ([26,0], [51,0], [76,0], [100, 0])\n",
    "for i in range(quantidadeNumeros):\n",
    "    n = random.randint(-100,100)\n",
    "    print(n)\n",
    "    if n < 0:\n",
    "        print('Numero negativo detectado! Encerrando.')\n",
    "        break\n",
    "    else:\n",
    "        for j in intervalos:\n",
    "            if n < j[0]:\n",
    "                j[1] += 1\n",
    "                break\n",
    "print(f\"\"\"[0-25]: {intervalos[0][1]}\n",
    "[26-50]: {intervalos[1][1]}\n",
    "[51-75]: {intervalos[2][1]}\n",
    "[76-100]: {intervalos[3][1]}\n",
    "\"\"\")\n"
   ]
  },
  {
   "cell_type": "markdown",
   "metadata": {},
   "source": [
    "### Questão 2"
   ]
  },
  {
   "cell_type": "code",
   "execution_count": 12,
   "metadata": {},
   "outputs": [
    {
     "name": "stdout",
     "output_type": "stream",
     "text": [
      "Cachorro Quente: 4*1.2\n",
      "Total: R$ 4.80\n"
     ]
    }
   ],
   "source": [
    "cardapio = (\n",
    "    [100, 'Cachorro Quente', 1.2, 0, 0],\n",
    "    [101, 'Bauru Simples', 1.3, 0, 0],\n",
    "    [102, 'Bauru com Ovo', 1.5, 0, 0],\n",
    "    [103, 'Hambúrguer', 1.2, 0, 0],\n",
    "    [104, 'Cheeseburguer', 1.3, 0, 0],\n",
    "    [105, 'Refrigerante', 1.0, 0, 0]\n",
    ")\n",
    "\n",
    "continuar = True\n",
    "total = 0\n",
    "while continuar:\n",
    "    pedido = int(input(\"Insira o código do item: \"))-100\n",
    "    quantidade = int(input(\"Insira a quantidade: \"))\n",
    "    cardapio[pedido][3] += quantidade\n",
    "    cardapio[pedido][4] = cardapio[pedido][2] * quantidade\n",
    "    total += cardapio[pedido][4]\n",
    "    continuar = int(input(\"\"\"Pressione:\n",
    "    [1] Se desejar fazer outro pedido\n",
    "    [0] Se desejar encerrar\"\"\"))\n",
    "\n",
    "for i in range(len(cardapio)):\n",
    "    if cardapio[i][3] == 0:\n",
    "        continue\n",
    "    else:\n",
    "        print(f'{cardapio[i][1]}: {cardapio[i][3]}*{cardapio[i][2]}')\n",
    "print(f'Total: R${total: .2f}')\n",
    "\n",
    "# Resetando as quantidades no cardapio\n",
    "for i in range(len(cardapio)):\n",
    "    cardapio[i][3], cardapio[i][4] = 0, 0"
   ]
  },
  {
   "cell_type": "markdown",
   "metadata": {},
   "source": [
    "### Questão 3"
   ]
  },
  {
   "cell_type": "code",
   "execution_count": 8,
   "metadata": {},
   "outputs": [
    {
     "name": "stdout",
     "output_type": "stream",
     "text": [
      "João \t 0\n",
      "Maria \t 5\n",
      "José \t 6\n",
      "Sara \t 7\n",
      "Nulo \t 11\n",
      "Branco \t 7\n",
      "Percentual de nulos:  30.56%\n",
      "Percentual de votos em branco:  19.44%\n"
     ]
    }
   ],
   "source": [
    "nomes = (\"João\", \"Maria\", \"José\", \"Sara\", \"Nulo\", \"Branco\")\n",
    "candidatos = {i:0 for i in nomes}\n",
    "eleitores = 100\n",
    "\n",
    "for i in range(eleitores):\n",
    "    if i <= 30:\n",
    "        voto = random.randint(1,5)\n",
    "    else:\n",
    "        voto = random.randint(0,5)\n",
    "    \n",
    "    if voto == 0:\n",
    "        break\n",
    "    else:\n",
    "        candidatos[nomes[voto]] += 1\n",
    "\n",
    "for i in candidatos.items():\n",
    "    print(i[0], '\\t', i[1])\n",
    "\n",
    "pct_nulos = candidatos[\"Nulo\"]/sum(candidatos.values()) * 100\n",
    "pct_brancos = candidatos[\"Branco\"]/sum(candidatos.values()) * 100\n",
    "\n",
    "print(f'Percentual de nulos: {pct_nulos: .2f}%')\n",
    "print(f'Percentual de votos em branco: {pct_brancos: .2f}%')\n"
   ]
  },
  {
   "cell_type": "markdown",
   "metadata": {},
   "source": [
    "### Questão 4"
   ]
  },
  {
   "cell_type": "code",
   "execution_count": 16,
   "metadata": {},
   "outputs": [
    {
     "name": "stdout",
     "output_type": "stream",
     "text": [
      "--------------- Resumo das Correções ---------------\n",
      "Maior nota: 3\n",
      "Menor nota: 2\n",
      "Total de alunos que utilizaram o sistema: 4\n",
      "Média de notas da turma: 2.25\n",
      "----------------------------------------------------\n"
     ]
    }
   ],
   "source": [
    "def corrigeProva(respostas):\n",
    "    gabarito = ('A', 'B', 'C', 'D', 'E', 'E', 'D', 'C', 'B')\n",
    "    acertos_aluno = 0\n",
    "    for i in range(len(gabarito)):\n",
    "        if respostas[i] == gabarito[i]:\n",
    "            acertos_aluno += 1\n",
    "        else:\n",
    "            continue\n",
    "    media_aluno = acertos_aluno / len(gabarito)\n",
    "    return acertos_aluno\n",
    "\n",
    "continuar = 1\n",
    "turma = []\n",
    "while continuar:\n",
    "    # respostas = [input(f\"Insira a resposta da questão {i+1}: \").upper() for i in range(10)]\n",
    "    respostas = tuple(random.choice(('A', 'B', 'C', 'D', 'E')) for i in range(10))\n",
    "    turma.append(corrigeProva(respostas))\n",
    "    continuar = int(input(\"Deseja computar a nota de outro aluno?\\n[1] Sim\\n[0] Não\"))\n",
    "\n",
    "maior_nota = max(turma)\n",
    "menor_nota = min(turma)\n",
    "qtd_corrigidas = len(turma)\n",
    "media_turma = sum(turma) / len(turma)\n",
    "\n",
    "print(f'''{\"-\"*15} Resumo das Correções {\"-\"*15}\n",
    "Maior nota: {maior_nota}\n",
    "Menor nota: {menor_nota}\n",
    "Total de alunos que utilizaram o sistema: {qtd_corrigidas}\n",
    "Média de notas da turma: {media_turma}\n",
    "{\"-\"* (30 + len(\" Resumo das Correções \"))}''')"
   ]
  },
  {
   "cell_type": "markdown",
   "metadata": {},
   "source": [
    "### Questão 5"
   ]
  },
  {
   "cell_type": "code",
   "execution_count": 28,
   "metadata": {},
   "outputs": [
    {
     "name": "stdout",
     "output_type": "stream",
     "text": [
      "Atleta: João\n",
      "Primeiro Salto: 5.0m\n",
      "Segundo Salto: 4.0m\n",
      "Terceiro Salto: 5.0m\n",
      "Quarto Salto: 8.0m\n",
      "Quinto Salto: 7.0m\n",
      "\n",
      "Melhor Salto: 8.0m\n",
      "Pior Salto: 4.0m\n",
      "Média dos Demais Saltos:  5.00m\n",
      "\n",
      "Resultado Final:\n",
      "João:  5.00m\n"
     ]
    }
   ],
   "source": [
    "def computoNotas(n):\n",
    "    nome = n\n",
    "    notas = [float(input(f'Insira a nota {i+1}')) for i in range(5)]\n",
    "    melhor = max(notas)\n",
    "    pior = min(notas)\n",
    "    media = sum(sorted(notas)[1:-2]) / len(sorted(notas)[1:-2])\n",
    "    atleta = (nome, notas, melhor, pior, media)\n",
    "    return atleta\n",
    "\n",
    "nome = input(\"Insira o nome do atleta\")\n",
    "while len(nome) != 0:\n",
    "    atleta = computoNotas(nome)\n",
    "    print(f'''Atleta: {nome}\n",
    "Primeiro Salto: {atleta[1][0]}m\n",
    "Segundo Salto: {atleta[1][1]}m\n",
    "Terceiro Salto: {atleta[1][2]}m\n",
    "Quarto Salto: {atleta[1][3]}m\n",
    "Quinto Salto: {atleta[1][4]}m\n",
    "\n",
    "Melhor Salto: {atleta[2]}m\n",
    "Pior Salto: {atleta[3]}m\n",
    "Média dos Demais Saltos: {atleta[4]: .2f}m\n",
    "\n",
    "Resultado Final:\n",
    "{nome}: {atleta[4]: .2f}m''')\n",
    "    nome = input(\"Insira o nome do atleta\")"
   ]
  }
 ],
 "metadata": {
  "kernelspec": {
   "display_name": "Python 3.9.7 ('base')",
   "language": "python",
   "name": "python3"
  },
  "language_info": {
   "codemirror_mode": {
    "name": "ipython",
    "version": 3
   },
   "file_extension": ".py",
   "mimetype": "text/x-python",
   "name": "python",
   "nbconvert_exporter": "python",
   "pygments_lexer": "ipython3",
   "version": "3.9.7"
  },
  "orig_nbformat": 4,
  "vscode": {
   "interpreter": {
    "hash": "88279d2366fe020547cde40dd65aa0e3aa662a6ec1f3ca12d88834876c85e1a6"
   }
  }
 },
 "nbformat": 4,
 "nbformat_minor": 2
}
