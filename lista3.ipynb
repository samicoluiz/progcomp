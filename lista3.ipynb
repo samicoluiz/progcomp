{
 "cells": [
  {
   "cell_type": "markdown",
   "metadata": {},
   "source": [
    "### Questão 1"
   ]
  },
  {
   "cell_type": "code",
   "execution_count": 2,
   "metadata": {},
   "outputs": [],
   "source": [
    "import random"
   ]
  },
  {
   "cell_type": "code",
   "execution_count": 2,
   "metadata": {},
   "outputs": [
    {
     "name": "stdout",
     "output_type": "stream",
     "text": [
      "2\n",
      "-16\n",
      "Numero negativo detectado! Encerrando.\n",
      "[0-25]: 1\n",
      "[26-50]: 0\n",
      "[51-75]: 0\n",
      "[76-100]: 0\n",
      "\n"
     ]
    }
   ],
   "source": [
    "\n",
    "quantidadeNumeros = int(input('insira a quantidade de números: '))\n",
    "intervalos = ([26,0], [51,0], [76,0], [100, 0])\n",
    "for i in range(quantidadeNumeros):\n",
    "    n = random.randint(-100,100)\n",
    "    print(n)\n",
    "    if n < 0:\n",
    "        print('Numero negativo detectado! Encerrando.')\n",
    "        break\n",
    "    else:\n",
    "        for j in intervalos:\n",
    "            if n < j[0]:\n",
    "                j[1] += 1\n",
    "                break\n",
    "print(f\"\"\"[0-25]: {intervalos[0][1]}\n",
    "[26-50]: {intervalos[1][1]}\n",
    "[51-75]: {intervalos[2][1]}\n",
    "[76-100]: {intervalos[3][1]}\n",
    "\"\"\")\n"
   ]
  },
  {
   "cell_type": "markdown",
   "metadata": {},
   "source": [
    "### Questão 2"
   ]
  },
  {
   "cell_type": "code",
   "execution_count": 12,
   "metadata": {},
   "outputs": [
    {
     "name": "stdout",
     "output_type": "stream",
     "text": [
      "Cachorro Quente: 4*1.2\n",
      "Total: R$ 4.80\n"
     ]
    }
   ],
   "source": [
    "cardapio = (\n",
    "    [100, 'Cachorro Quente', 1.2, 0, 0],\n",
    "    [101, 'Bauru Simples', 1.3, 0, 0],\n",
    "    [102, 'Bauru com Ovo', 1.5, 0, 0],\n",
    "    [103, 'Hambúrguer', 1.2, 0, 0],\n",
    "    [104, 'Cheeseburguer', 1.3, 0, 0],\n",
    "    [105, 'Refrigerante', 1.0, 0, 0]\n",
    ")\n",
    "\n",
    "continuar = True\n",
    "total = 0\n",
    "while continuar:\n",
    "    pedido = int(input(\"Insira o código do item: \"))-100\n",
    "    quantidade = int(input(\"Insira a quantidade: \"))\n",
    "    cardapio[pedido][3] += quantidade\n",
    "    cardapio[pedido][4] = cardapio[pedido][2] * quantidade\n",
    "    total += cardapio[pedido][4]\n",
    "    continuar = int(input(\"\"\"Pressione:\n",
    "    [1] Se desejar fazer outro pedido\n",
    "    [0] Se desejar encerrar\"\"\"))\n",
    "\n",
    "for i in range(len(cardapio)):\n",
    "    if cardapio[i][3] == 0:\n",
    "        continue\n",
    "    else:\n",
    "        print(f'{cardapio[i][1]}: {cardapio[i][3]}*{cardapio[i][2]}')\n",
    "print(f'Total: R${total: .2f}')\n",
    "\n",
    "# Resetando as quantidades no cardapio\n",
    "for i in range(len(cardapio)):\n",
    "    cardapio[i][3], cardapio[i][4] = 0, 0"
   ]
  },
  {
   "cell_type": "markdown",
   "metadata": {},
   "source": [
    "### Questão 3"
   ]
  },
  {
   "cell_type": "code",
   "execution_count": 8,
   "metadata": {},
   "outputs": [
    {
     "name": "stdout",
     "output_type": "stream",
     "text": [
      "João \t 0\n",
      "Maria \t 5\n",
      "José \t 6\n",
      "Sara \t 7\n",
      "Nulo \t 11\n",
      "Branco \t 7\n",
      "Percentual de nulos:  30.56%\n",
      "Percentual de votos em branco:  19.44%\n"
     ]
    }
   ],
   "source": [
    "nomes = (\"João\", \"Maria\", \"José\", \"Sara\", \"Nulo\", \"Branco\")\n",
    "candidatos = {i:0 for i in nomes}\n",
    "eleitores = 100\n",
    "\n",
    "for i in range(eleitores):\n",
    "    if i <= 30:\n",
    "        voto = random.randint(1,5)\n",
    "    else:\n",
    "        voto = random.randint(0,5)\n",
    "    \n",
    "    if voto == 0:\n",
    "        break\n",
    "    else:\n",
    "        candidatos[nomes[voto]] += 1\n",
    "\n",
    "for i in candidatos.items():\n",
    "    print(i[0], '\\t', i[1])\n",
    "\n",
    "pct_nulos = candidatos[\"Nulo\"]/sum(candidatos.values()) * 100\n",
    "pct_brancos = candidatos[\"Branco\"]/sum(candidatos.values()) * 100\n",
    "\n",
    "print(f'Percentual de nulos: {pct_nulos: .2f}%')\n",
    "print(f'Percentual de votos em branco: {pct_brancos: .2f}%')\n"
   ]
  },
  {
   "cell_type": "markdown",
   "metadata": {},
   "source": [
    "### Questão 4"
   ]
  },
  {
   "cell_type": "code",
   "execution_count": 16,
   "metadata": {},
   "outputs": [
    {
     "name": "stdout",
     "output_type": "stream",
     "text": [
      "--------------- Resumo das Correções ---------------\n",
      "Maior nota: 3\n",
      "Menor nota: 2\n",
      "Total de alunos que utilizaram o sistema: 4\n",
      "Média de notas da turma: 2.25\n",
      "----------------------------------------------------\n"
     ]
    }
   ],
   "source": [
    "def corrigeProva(respostas):\n",
    "    gabarito = ('A', 'B', 'C', 'D', 'E', 'E', 'D', 'C', 'B')\n",
    "    acertos_aluno = 0\n",
    "    for i in range(len(gabarito)):\n",
    "        if respostas[i] == gabarito[i]:\n",
    "            acertos_aluno += 1\n",
    "        else:\n",
    "            continue\n",
    "    media_aluno = acertos_aluno / len(gabarito)\n",
    "    return acertos_aluno\n",
    "\n",
    "continuar = 1\n",
    "turma = []\n",
    "while continuar:\n",
    "    # respostas = [input(f\"Insira a resposta da questão {i+1}: \").upper() for i in range(10)]\n",
    "    respostas = tuple(random.choice(('A', 'B', 'C', 'D', 'E')) for i in range(10))\n",
    "    turma.append(corrigeProva(respostas))\n",
    "    continuar = int(input(\"Deseja computar a nota de outro aluno?\\n[1] Sim\\n[0] Não\"))\n",
    "\n",
    "maior_nota = max(turma)\n",
    "menor_nota = min(turma)\n",
    "qtd_corrigidas = len(turma)\n",
    "media_turma = sum(turma) / len(turma)\n",
    "\n",
    "print(f'''{\"-\"*15} Resumo das Correções {\"-\"*15}\n",
    "Maior nota: {maior_nota}\n",
    "Menor nota: {menor_nota}\n",
    "Total de alunos que utilizaram o sistema: {qtd_corrigidas}\n",
    "Média de notas da turma: {media_turma}\n",
    "{\"-\"* (30 + len(\" Resumo das Correções \"))}''')"
   ]
  },
  {
   "cell_type": "markdown",
   "metadata": {},
   "source": [
    "### Questão 5"
   ]
  },
  {
   "cell_type": "code",
   "execution_count": 28,
   "metadata": {},
   "outputs": [
    {
     "name": "stdout",
     "output_type": "stream",
     "text": [
      "Atleta: João\n",
      "Primeiro Salto: 5.0m\n",
      "Segundo Salto: 4.0m\n",
      "Terceiro Salto: 5.0m\n",
      "Quarto Salto: 8.0m\n",
      "Quinto Salto: 7.0m\n",
      "\n",
      "Melhor Salto: 8.0m\n",
      "Pior Salto: 4.0m\n",
      "Média dos Demais Saltos:  5.00m\n",
      "\n",
      "Resultado Final:\n",
      "João:  5.00m\n"
     ]
    }
   ],
   "source": [
    "def computoNotas(n):\n",
    "    nome = n\n",
    "    notas = [float(input(f'Insira a nota {i+1}')) for i in range(5)]\n",
    "    melhor = max(notas)\n",
    "    pior = min(notas)\n",
    "    media = sum(sorted(notas)[1:-2]) / len(sorted(notas)[1:-2])\n",
    "    atleta = (nome, notas, melhor, pior, media)\n",
    "    return atleta\n",
    "\n",
    "nome = input(\"Insira o nome do atleta\")\n",
    "while len(nome) != 0:\n",
    "    atleta = computoNotas(nome)\n",
    "    print(f'''Atleta: {nome}\n",
    "Primeiro Salto: {atleta[1][0]}m\n",
    "Segundo Salto: {atleta[1][1]}m\n",
    "Terceiro Salto: {atleta[1][2]}m\n",
    "Quarto Salto: {atleta[1][3]}m\n",
    "Quinto Salto: {atleta[1][4]}m\n",
    "\n",
    "Melhor Salto: {atleta[2]}m\n",
    "Pior Salto: {atleta[3]}m\n",
    "Média dos Demais Saltos: {atleta[4]: .2f}m\n",
    "\n",
    "Resultado Final:\n",
    "{nome}: {atleta[4]: .2f}m''')\n",
    "    nome = input(\"Insira o nome do atleta\")"
   ]
  },
  {
   "cell_type": "markdown",
   "metadata": {},
   "source": [
    "### Questão 6"
   ]
  },
  {
   "cell_type": "code",
   "execution_count": 8,
   "metadata": {},
   "outputs": [
    {
     "name": "stdout",
     "output_type": "stream",
     "text": [
      "Atleta: Aparecido Parente\n",
      "Nota: 7.5\n",
      "Nota: 9.5\n",
      "Nota: 8.5\n",
      "Nota: 9.9\n",
      "Nota: 9.7\n",
      "\n",
      "Melhor: 9.9\n",
      "Pior: 7.5\n",
      "Média:  8.88\n",
      "\n",
      "Resultado Final:\n",
      "Aparecido Parente:  8.88\n"
     ]
    }
   ],
   "source": [
    "def computoNotas(n):\n",
    "    nome = n\n",
    "    notas = [float(input(f'Insira a nota {i+1}')) for i in range(7)]\n",
    "    melhor = max(notas)\n",
    "    pior = min(notas)\n",
    "    media = sum(sorted(notas)[1:-2]) / len(sorted(notas)[1:-2])\n",
    "    random.shuffle(notas)\n",
    "    atleta = (nome, notas, melhor, pior, media)\n",
    "    return atleta\n",
    "\n",
    "nome = input(\"Insira o nome do atleta\")\n",
    "while len(nome) != 0:\n",
    "    atleta = computoNotas(nome)\n",
    "    print(f'''Atleta: {nome}\n",
    "Nota: {atleta[1][0]}\n",
    "Nota: {atleta[1][1]}\n",
    "Nota: {atleta[1][2]}\n",
    "Nota: {atleta[1][3]}\n",
    "Nota: {atleta[1][4]}\n",
    "\n",
    "Melhor: {atleta[2]}\n",
    "Pior: {atleta[3]}\n",
    "Média: {atleta[4]: .2f}\n",
    "\n",
    "Resultado Final:\n",
    "{nome}: {atleta[4]: .2f}''')\n",
    "    nome = input(\"Insira o nome do atleta\")"
   ]
  },
  {
   "cell_type": "markdown",
   "metadata": {},
   "source": [
    "### Questão 7"
   ]
  },
  {
   "cell_type": "code",
   "execution_count": 21,
   "metadata": {},
   "outputs": [
    {
     "name": "stdout",
     "output_type": "stream",
     "text": [
      "Projeção de Gastos com Abono\n",
      "==================================================\n",
      "Salário: R$1000.0\tAbono: R$200.0\n",
      "Salário: R$500.0\tAbono: R$100\n",
      "Salário: R$4500.0\tAbono: R$900.0\n",
      "==================================================\n",
      "Foram processados 3 colaboradores\n",
      "Total gasto com abonos: R$1200.0\n",
      "Valor mínimo pago a 1 colaboradores\n",
      "Maior valor de abono pago: R$900.0\n"
     ]
    }
   ],
   "source": [
    "# minimo 100, else 20% salario bruto\n",
    "# Salario 0 encerra o computo dos salarios\n",
    "# OUT: salario + valor de abono\n",
    "#   Numero de salarios processados\n",
    "#   Valor total gasto com abono\n",
    "#   Numero de funcionarios com abono de 100\n",
    "#   Maior abono\n",
    "\n",
    "salarios = []\n",
    "abonos = []\n",
    "continuar = True\n",
    "while continuar:\n",
    "    salarioFuncionario = float(input('Insira o salário bruto do funcionário: '))\n",
    "    sePiso = salarioFuncionario * 0.2 <= 100\n",
    "    abono = 100 if sePiso else salarioFuncionario * 0.2\n",
    "    salarios.append(salarioFuncionario)\n",
    "    abonos.append(abono)\n",
    "    continuar = False if float(input('Insira o próximo salário: \\nDigite [0] para sair.')) == 0 else 1\n",
    "\n",
    "print(f'Projeção de Gastos com Abono\\n{\"=\"*50}')\n",
    "for i in range(len(salarios)):\n",
    "    print(f'Salário: R${salarios[i]}\\tAbono: R${abonos[i]}')\n",
    "print(f'''{\"=\"*50}\\nForam processados {len(salarios)} colaboradores\n",
    "Total gasto com abonos: R${sum(abonos)}\n",
    "Valor mínimo pago a {abonos.count(100)} colaboradores\n",
    "Maior valor de abono pago: R${max(abonos)}''')\n"
   ]
  },
  {
   "cell_type": "markdown",
   "metadata": {},
   "source": [
    "### Questão 8"
   ]
  },
  {
   "cell_type": "code",
   "execution_count": 33,
   "metadata": {},
   "outputs": [
    {
     "name": "stdout",
     "output_type": "stream",
     "text": [
      "Comparativo de Consumo de Combustível\n",
      "Veículo: 1\n",
      "    Nome: Fusca\n",
      "    Km/L: 7.0\n",
      "Veículo: 2\n",
      "    Nome: Gol\n",
      "    Km/L: 10.0\n",
      "Veículo: 3\n",
      "    Nome: Uno\n",
      "    Km/L: 12.5\n",
      "Veículo: 4\n",
      "    Nome: Vectra\n",
      "    Km/L: 9.0\n",
      "Veículo: 5\n",
      "    Nome: Peugeot\n",
      "    Km/L: 14.5\n",
      "\n",
      "Relatório Final\n",
      "1 - Peugeot - 14.5 -  68.97 litros - R$ 155.17\n",
      "2 - Uno - 12.5 -  80.00 litros - R$ 180.00\n",
      "3 - Gol - 10.0 -  100.00 litros - R$ 225.00\n",
      "4 - Vectra - 9.0 -  111.11 litros - R$ 250.00\n",
      "5 - Fusca - 7.0 -  142.86 litros - R$ 321.43\n"
     ]
    }
   ],
   "source": [
    "carros = [(input(f'Insira o modelo do carro {i+1}: '),\n",
    "        float(input(f'Insira o consumo do modelo')), i+1) for i in range(5)]\n",
    "carrosSorted = sorted(carros, key=lambda x: x[1], reverse=True)\n",
    "\n",
    "print('Comparativo de Consumo de Combustível')\n",
    "for i in carros:\n",
    "    print(f'''Veículo: {i[2]}\n",
    "    Nome: {i[0]}\n",
    "    Km/L: {i[1]}''')\n",
    "print('\\nRelatório Final')\n",
    "for i in range(len(carrosSorted)):\n",
    "    print(f'{i+1} - {carrosSorted[i][0]} - {carrosSorted[i][1]} - {1000/carrosSorted[i][1]: .2f} litros - R${(1000/carrosSorted[i][1])*2.25: .2f}')"
   ]
  },
  {
   "cell_type": "markdown",
   "metadata": {},
   "source": [
    "### Questão 9"
   ]
  },
  {
   "cell_type": "code",
   "execution_count": 109,
   "metadata": {},
   "outputs": [
    {
     "name": "stdout",
     "output_type": "stream",
     "text": [
      "Quantidade de mouses: 24\n",
      "Situação                                          Quantidade                Percentual\n",
      "1 - Necessita de esfera                               6                         25.00%\n",
      "2 - necessita de limpeza                              7                         29.17%\n",
      "3 - Necessita troca do cabo ou conector               4                         16.67%\n",
      "4 - quebrado ou inutilizado                           7                         29.17%\n"
     ]
    }
   ],
   "source": [
    "situacoes = ['Necessita de esfera', 'necessita de limpeza', 'Necessita troca do cabo ou conector', 'quebrado ou inutilizado']\n",
    "codigos = [0,0,0,0]\n",
    "\n",
    "id = 1\n",
    "while id != 0:\n",
    "    situacao = int(input(f'Insira o problema do mouse\\n[1] {situacoes[0]}\\n[2] {situacoes[1]}\\n[3] {situacoes[2]}\\n [4] {situacoes[3]}\\n[0] Encerrar'))\n",
    "    if situacao != 0:\n",
    "        codigos[situacao-1] += 1\n",
    "    else:\n",
    "        id = 0\n",
    "fill = \".\"\n",
    "print(f'Quantidade de mouses: {sum(codigos)}')\n",
    "print(f'{\"Situação\":<45}{\"Quantidade\":^20}{\"Percentual\":>21}')\n",
    "for i in range(len(situacoes)):\n",
    "    print(f'{str(i+1) + \" - \" + str(situacoes[i]):<45}{codigos[i]:^20}{(codigos[i]/sum(codigos))*100:>20.2f}%')\n"
   ]
  }
 ],
 "metadata": {
  "kernelspec": {
   "display_name": "Python 3.9.7 ('base')",
   "language": "python",
   "name": "python3"
  },
  "language_info": {
   "codemirror_mode": {
    "name": "ipython",
    "version": 3
   },
   "file_extension": ".py",
   "mimetype": "text/x-python",
   "name": "python",
   "nbconvert_exporter": "python",
   "pygments_lexer": "ipython3",
   "version": "3.9.7"
  },
  "orig_nbformat": 4,
  "vscode": {
   "interpreter": {
    "hash": "88279d2366fe020547cde40dd65aa0e3aa662a6ec1f3ca12d88834876c85e1a6"
   }
  }
 },
 "nbformat": 4,
 "nbformat_minor": 2
}
