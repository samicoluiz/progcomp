{
 "cells": [
  {
   "cell_type": "code",
   "execution_count": 31,
   "metadata": {},
   "outputs": [
    {
     "name": "stdout",
     "output_type": "stream",
     "text": [
      "55\n",
      "46\n",
      "-95\n",
      "Numero negativo detectado! Encerrando.\n",
      "[0-25]: 0\n",
      "[26-50]: 1\n",
      "[51-75]: 1\n",
      "[76-100]: 0\n",
      "\n"
     ]
    }
   ],
   "source": [
    "import random\n",
    "quantidadeNumeros = int(input('insira a quantidade de números: '))\n",
    "intervalos = ([26,0], [51,0], [76,0], [100, 0])\n",
    "for i in range(quantidadeNumeros):\n",
    "    n = random.randint(-100,100)\n",
    "    print(n)\n",
    "    if n < 0:\n",
    "        print('Numero negativo detectado! Encerrando.')\n",
    "        break\n",
    "    else:\n",
    "        for j in intervalos:\n",
    "            if n < j[0]:\n",
    "                j[1] += 1\n",
    "                break\n",
    "print(f\"\"\"[0-25]: {intervalos[0][1]}\n",
    "[26-50]: {intervalos[1][1]}\n",
    "[51-75]: {intervalos[2][1]}\n",
    "[76-100]: {intervalos[3][1]}\n",
    "\"\"\")\n"
   ]
  }
 ],
 "metadata": {
  "kernelspec": {
   "display_name": "Python 3.9.7 ('base')",
   "language": "python",
   "name": "python3"
  },
  "language_info": {
   "codemirror_mode": {
    "name": "ipython",
    "version": 3
   },
   "file_extension": ".py",
   "mimetype": "text/x-python",
   "name": "python",
   "nbconvert_exporter": "python",
   "pygments_lexer": "ipython3",
   "version": "3.9.7"
  },
  "orig_nbformat": 4,
  "vscode": {
   "interpreter": {
    "hash": "88279d2366fe020547cde40dd65aa0e3aa662a6ec1f3ca12d88834876c85e1a6"
   }
  }
 },
 "nbformat": 4,
 "nbformat_minor": 2
}
