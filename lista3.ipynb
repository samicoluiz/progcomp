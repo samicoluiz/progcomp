{
 "cells": [
  {
   "cell_type": "markdown",
   "metadata": {},
   "source": [
    "### Questão 1"
   ]
  },
  {
   "cell_type": "code",
   "execution_count": 31,
   "metadata": {},
   "outputs": [
    {
     "name": "stdout",
     "output_type": "stream",
     "text": [
      "55\n",
      "46\n",
      "-95\n",
      "Numero negativo detectado! Encerrando.\n",
      "[0-25]: 0\n",
      "[26-50]: 1\n",
      "[51-75]: 1\n",
      "[76-100]: 0\n",
      "\n"
     ]
    }
   ],
   "source": [
    "import random\n",
    "quantidadeNumeros = int(input('insira a quantidade de números: '))\n",
    "intervalos = ([26,0], [51,0], [76,0], [100, 0])\n",
    "for i in range(quantidadeNumeros):\n",
    "    n = random.randint(-100,100)\n",
    "    print(n)\n",
    "    if n < 0:\n",
    "        print('Numero negativo detectado! Encerrando.')\n",
    "        break\n",
    "    else:\n",
    "        for j in intervalos:\n",
    "            if n < j[0]:\n",
    "                j[1] += 1\n",
    "                break\n",
    "print(f\"\"\"[0-25]: {intervalos[0][1]}\n",
    "[26-50]: {intervalos[1][1]}\n",
    "[51-75]: {intervalos[2][1]}\n",
    "[76-100]: {intervalos[3][1]}\n",
    "\"\"\")\n"
   ]
  },
  {
   "cell_type": "markdown",
   "metadata": {},
   "source": [
    "### Questão 2"
   ]
  },
  {
   "cell_type": "code",
   "execution_count": 12,
   "metadata": {},
   "outputs": [
    {
     "name": "stdout",
     "output_type": "stream",
     "text": [
      "Cachorro Quente: 4*1.2\n",
      "Total: R$ 4.80\n"
     ]
    }
   ],
   "source": [
    "cardapio = (\n",
    "    [100, 'Cachorro Quente', 1.2, 0, 0],\n",
    "    [101, 'Bauru Simples', 1.3, 0, 0],\n",
    "    [102, 'Bauru com Ovo', 1.5, 0, 0],\n",
    "    [103, 'Hambúrguer', 1.2, 0, 0],\n",
    "    [104, 'Cheeseburguer', 1.3, 0, 0],\n",
    "    [105, 'Refrigerante', 1.0, 0, 0]\n",
    ")\n",
    "\n",
    "continuar = True\n",
    "total = 0\n",
    "while continuar:\n",
    "    pedido = int(input(\"Insira o código do item: \"))-100\n",
    "    quantidade = int(input(\"Insira a quantidade: \"))\n",
    "    cardapio[pedido][3] += quantidade\n",
    "    cardapio[pedido][4] = cardapio[pedido][2] * quantidade\n",
    "    total += cardapio[pedido][4]\n",
    "    continuar = int(input(\"\"\"Pressione:\n",
    "    [1] Se desejar fazer outro pedido\n",
    "    [0] Se desejar encerrar\"\"\"))\n",
    "\n",
    "for i in range(len(cardapio)):\n",
    "    if cardapio[i][3] == 0:\n",
    "        continue\n",
    "    else:\n",
    "        print(f'{cardapio[i][1]}: {cardapio[i][3]}*{cardapio[i][2]}')\n",
    "print(f'Total: R${total: .2f}')\n",
    "\n",
    "# Resetando as quantidades no cardapio\n",
    "for i in range(len(cardapio)):\n",
    "    cardapio[i][3], cardapio[i][4] = 0, 0"
   ]
  }
 ],
 "metadata": {
  "kernelspec": {
   "display_name": "Python 3.9.7 ('base')",
   "language": "python",
   "name": "python3"
  },
  "language_info": {
   "codemirror_mode": {
    "name": "ipython",
    "version": 3
   },
   "file_extension": ".py",
   "mimetype": "text/x-python",
   "name": "python",
   "nbconvert_exporter": "python",
   "pygments_lexer": "ipython3",
   "version": "3.9.7"
  },
  "orig_nbformat": 4,
  "vscode": {
   "interpreter": {
    "hash": "88279d2366fe020547cde40dd65aa0e3aa662a6ec1f3ca12d88834876c85e1a6"
   }
  }
 },
 "nbformat": 4,
 "nbformat_minor": 2
}
