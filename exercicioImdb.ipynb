{
 "cells": [
  {
   "cell_type": "markdown",
   "metadata": {},
   "source": [
    "### FIlmes IMDB"
   ]
  },
  {
   "cell_type": "code",
   "execution_count": 4,
   "metadata": {},
   "outputs": [],
   "source": [
    "import csv\n",
    "import imdb\n",
    "\n",
    "code = [20880628, 10872600, 3501632, 9419884, 7131622]\n",
    "filmes = []\n",
    "ia = imdb.IMDb()\n",
    "\n",
    "for i in code:\n",
    "    series = ia.get_movie(i)\n",
    "    imdbID = series.data['imdbID']\n",
    "    title = series.data['title']\n",
    "    year = series.data['year']\n",
    "    genres = str(series.data['genres']).strip('[').strip(']').replace(\"\\'\", \"\")\n",
    "    kind = series.data['kind']\n",
    "\n",
    "    filmes.append([imdbID, title, year, genres, kind])\n",
    "\n",
    "    with open('listaFilmes.csv', 'w', newline='') as f:\n",
    "        writer = csv.writer(f)\n",
    "        writer.writerow(['imdbID', 'title', 'year', 'genres', 'kind'])\n",
    "        writer.writerows(filmes)"
   ]
  }
 ],
 "metadata": {
  "kernelspec": {
   "display_name": "Python 3.9.7 ('base')",
   "language": "python",
   "name": "python3"
  },
  "language_info": {
   "codemirror_mode": {
    "name": "ipython",
    "version": 3
   },
   "file_extension": ".py",
   "mimetype": "text/x-python",
   "name": "python",
   "nbconvert_exporter": "python",
   "pygments_lexer": "ipython3",
   "version": "3.9.7"
  },
  "orig_nbformat": 4,
  "vscode": {
   "interpreter": {
    "hash": "88279d2366fe020547cde40dd65aa0e3aa662a6ec1f3ca12d88834876c85e1a6"
   }
  }
 },
 "nbformat": 4,
 "nbformat_minor": 2
}
