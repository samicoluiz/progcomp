{
 "cells": [
  {
   "cell_type": "markdown",
   "metadata": {},
   "source": [
    "# Programação de Computadores - Lista 1"
   ]
  },
  {
   "cell_type": "markdown",
   "metadata": {},
   "source": [
    "## 1) Faça um programa que mostre a mensagem \"Alo mundo\" na tela."
   ]
  },
  {
   "cell_type": "code",
   "execution_count": 1,
   "metadata": {},
   "outputs": [
    {
     "name": "stdout",
     "output_type": "stream",
     "text": [
      "Alo mundo\n"
     ]
    }
   ],
   "source": [
    "print(\"Alo mundo\")"
   ]
  },
  {
   "cell_type": "markdown",
   "metadata": {},
   "source": [
    "## 2) Faça um programa que peça um número e  então mostre a mensagem \"O número informado foi [número]\"."
   ]
  },
  {
   "cell_type": "code",
   "execution_count": 2,
   "metadata": {},
   "outputs": [
    {
     "name": "stdout",
     "output_type": "stream",
     "text": [
      "O número informado foi 5\n"
     ]
    }
   ],
   "source": [
    "numero = input(\"Insira um número\")\n",
    "print(f'O número informado foi {numero}')"
   ]
  },
  {
   "cell_type": "markdown",
   "metadata": {},
   "source": [
    "## 3) Faça um Programa que peça dois números e imprima a soma."
   ]
  },
  {
   "cell_type": "code",
   "execution_count": 3,
   "metadata": {},
   "outputs": [
    {
     "name": "stdout",
     "output_type": "stream",
     "text": [
      "A soma dos dois números é igual a 9.\n"
     ]
    }
   ],
   "source": [
    "numero1 = int(input(\"insira o primeiro número: \"))\n",
    "numero2 = int(input(\"insira o segundo número: \"))\n",
    "print(f\"A soma dos dois números é igual a {numero1 + numero2}.\")"
   ]
  },
  {
   "cell_type": "markdown",
   "metadata": {},
   "source": [
    "## 4) Faça um Programa que peça as 4 notas bimestrais e mostre a média"
   ]
  },
  {
   "cell_type": "code",
   "execution_count": 4,
   "metadata": {},
   "outputs": [
    {
     "name": "stdout",
     "output_type": "stream",
     "text": [
      "A média do aluno é 6.75.\n"
     ]
    }
   ],
   "source": [
    "n1 = int(input('Insira a nota 1: '))\n",
    "n2 = int(input('Insira a nota 2: '))\n",
    "n3 = int(input('Insira a nota 3: '))\n",
    "n4 = int(input('Insira a nota 4: '))\n",
    "media = (n1 + n2 + n3 + n4) / 4\n",
    "print(f\"A média do aluno é {media}.\")"
   ]
  },
  {
   "cell_type": "markdown",
   "metadata": {},
   "source": [
    "## 5) Faça um programa que converta metros para centímetros"
   ]
  },
  {
   "cell_type": "code",
   "execution_count": 5,
   "metadata": {},
   "outputs": [
    {
     "name": "stdout",
     "output_type": "stream",
     "text": [
      "O valor em metros é 1.87.\n"
     ]
    }
   ],
   "source": [
    "in_centimetros = float(input(\"Insira o valor (em centímetros)\"))\n",
    "out_metros = in_centimetros / 100\n",
    "print(f\"O valor em metros é {out_metros}.\")"
   ]
  },
  {
   "cell_type": "markdown",
   "metadata": {},
   "source": [
    "## 6) Faça um Programa que peça o raio de um círculo, calcule e mostre sua área"
   ]
  },
  {
   "cell_type": "code",
   "execution_count": 6,
   "metadata": {},
   "outputs": [
    {
     "name": "stdout",
     "output_type": "stream",
     "text": [
      "O círculo de raio 2.0 tem área de 12.56.\n"
     ]
    }
   ],
   "source": [
    "pi = 3.14\n",
    "r = float(input(\"insira o raio do circulo\"))\n",
    "area = pi * r**2\n",
    "print(f\"O círculo de raio {r} tem área de {area}.\")"
   ]
  },
  {
   "cell_type": "markdown",
   "metadata": {},
   "source": [
    "## 7) Faça um Programa que calcule a área de um quadrado, em seguida mostre o dobro desta área para o usuário"
   ]
  },
  {
   "cell_type": "code",
   "execution_count": 7,
   "metadata": {},
   "outputs": [
    {
     "name": "stdout",
     "output_type": "stream",
     "text": [
      "O dobro da área do quadrado de lados 2.0 é 8.0.\n"
     ]
    }
   ],
   "source": [
    "lado = float(input(\"insira o tamanho dos lados do quadrado\"))\n",
    "area_dobro = lado**2 * 2\n",
    "print(f\"O dobro da área do quadrado de lados {lado} é {area_dobro}.\")"
   ]
  },
  {
   "cell_type": "markdown",
   "metadata": {},
   "source": [
    "## 8) Faça um Programa que pergunte quanto você ganha por hora e o número de horas trabalhadas no mês. Calcule e mostre o total do seu salário no referido mês"
   ]
  },
  {
   "cell_type": "code",
   "execution_count": 8,
   "metadata": {},
   "outputs": [
    {
     "name": "stdout",
     "output_type": "stream",
     "text": [
      "Seu salário por mês será 1760.0.\n"
     ]
    }
   ],
   "source": [
    "remuneracao = float(input(\"Digite o valor da hora de trabalho: \"))\n",
    "horas_trabalhadas = float(input(\"Digite a quantidade de horas trabalhadas no mês: \"))\n",
    "salario_mes = remuneracao * horas_trabalhadas\n",
    "print(f\"Seu salário por mês será {salario_mes}.\")"
   ]
  },
  {
   "cell_type": "markdown",
   "metadata": {},
   "source": [
    "## 9) Faça um Programa que peça a temperatura em graus Fahrenheit, transforme e mostre a temperatura em graus Celsius. C = 5 * ((F-32) / 9)"
   ]
  },
  {
   "cell_type": "code",
   "execution_count": 9,
   "metadata": {},
   "outputs": [
    {
     "name": "stdout",
     "output_type": "stream",
     "text": [
      "A temperatura em C é 37.77777777777778.\n"
     ]
    }
   ],
   "source": [
    "fahr = float(input(\"Insira a temperatura em F: \"))\n",
    "cel = 5*((fahr - 32)/9)\n",
    "print(f\"A temperatura em C é {cel}.\")"
   ]
  },
  {
   "cell_type": "markdown",
   "metadata": {},
   "source": [
    "## 10) Faça um Programa que peça a temperatura em graus Celsius, transforme e mostre em graus Fahrenheit"
   ]
  },
  {
   "cell_type": "code",
   "execution_count": 10,
   "metadata": {},
   "outputs": [
    {
     "name": "stdout",
     "output_type": "stream",
     "text": [
      "A temperatura em F é 96.8.\n"
     ]
    }
   ],
   "source": [
    "cel = float(input('Insira a temperatura em C: '))\n",
    "fahr = cel * 9/5 + 32\n",
    "print(f\"A temperatura em F é {fahr}.\")"
   ]
  },
  {
   "cell_type": "markdown",
   "metadata": {},
   "source": [
    "## 11) Faça um Programa que peça 2 números inteiros e um número real. Calcule e mostre:\n",
    "\n",
    "· o produto do dobro do primeiro com metade do segundo.\n",
    "\n",
    "· a soma do triplo do primeiro com o terceiro.\n",
    "\n",
    "· o terceiro elevado ao cubo. "
   ]
  },
  {
   "cell_type": "code",
   "execution_count": 11,
   "metadata": {},
   "outputs": [
    {
     "name": "stdout",
     "output_type": "stream",
     "text": [
      "O produto do dobro do primeiro com metade do segundo é 20.0.\n",
      "A soma do triplo do primeiro com o terceiro é 20.3.\n",
      "O produto do dobro do primeiro com metade do segundo é 148.87699999999998.\n"
     ]
    }
   ],
   "source": [
    "n1 = int(input(\"Digite um número inteiro: \"))\n",
    "n2 = int(input(\"Digite um número inteiro: \"))\n",
    "n3 = float(input(\"Digite um número real: \"))\n",
    "\n",
    "r1 = (2*n1) * (0.5*n2)\n",
    "r2 = (3*n1) + n3\n",
    "r3 = (n3**3)\n",
    "\n",
    "print(f\"O produto do dobro do primeiro com metade do segundo é {r1}.\")\n",
    "print(f\"A soma do triplo do primeiro com o terceiro é {r2}.\")\n",
    "print(f\"O produto do dobro do primeiro com metade do segundo é {r3}.\")"
   ]
  },
  {
   "cell_type": "markdown",
   "metadata": {},
   "source": [
    "## 12) Tendo como dados de entrada a altura de uma pessoa, construa um algoritmo que calcule seu peso ideal, usando a seguinte fórmula: (72.7*altura) - 58"
   ]
  },
  {
   "cell_type": "code",
   "execution_count": 12,
   "metadata": {},
   "outputs": [
    {
     "name": "stdout",
     "output_type": "stream",
     "text": [
      "O peso ideal para essa pessoa é 13536.9.\n"
     ]
    }
   ],
   "source": [
    "altura = float(input(\"Insira a altura da pessoa: \"))\n",
    "peso_ideal = (72.7 * altura ) - 58\n",
    "print(\"O peso ideal para essa pessoa é {}.\".format(peso_ideal))"
   ]
  },
  {
   "cell_type": "markdown",
   "metadata": {},
   "source": [
    "## 13) Tendo como dado de entrada a altura (h) de uma pessoa, construa um algoritmo que calcule seu peso ideal, utilizando as seguintes fórmulas:\n",
    "\n",
    "· Para homens: (72.7*h) - 58\n",
    "\n",
    "· Para mulheres: (62.1*h) - 44.7 "
   ]
  },
  {
   "cell_type": "code",
   "execution_count": 13,
   "metadata": {},
   "outputs": [
    {
     "name": "stdout",
     "output_type": "stream",
     "text": [
      "O peso ideal para essa pessoa é:\n",
      "caso seja homem: \t13536.9kg \n",
      "caso seja mulher: \t11568.0kg\n"
     ]
    }
   ],
   "source": [
    "altura = float(input(\"Insira a altura da pessoa: \"))\n",
    "peso_ideal_homem = (72.7 * altura ) - 58\n",
    "peso_ideal_mulher = (62.1 * altura ) - 44.7\n",
    "print(f\"O peso ideal para essa pessoa é:\\ncaso seja homem: \\t{round(peso_ideal_homem, 2)}kg \\ncaso seja mulher: \\t{round(peso_ideal_mulher, 2)}kg\")"
   ]
  },
  {
   "cell_type": "markdown",
   "metadata": {},
   "source": [
    "## 14) João Papo-de-Pescador, homem de bem, comprou um microcomputador para controlar o rendimento diário de seu trabalho. Toda vez que ele traz um peso de peixes maior que o estabelecido pelo regulamento de pesca do estado de São Paulo (50 quilos) deve pagar uma multa de R$ 4,00 por quilo excedente. João precisa que você faça um programa que leia a variável peso (peso de peixes) e calcule o excesso. Gravar na variável excesso a quantidade de quilos além do limite e na variável multa o valor da multa que João deverá pagar. Imprima os dados do programa com as mensagens adequadas"
   ]
  },
  {
   "cell_type": "code",
   "execution_count": 14,
   "metadata": {},
   "outputs": [
    {
     "name": "stdout",
     "output_type": "stream",
     "text": [
      "O peso do pescado está dentro do limite.\n"
     ]
    }
   ],
   "source": [
    "limite = 50\n",
    "peso = float(input(\"Insira o peso do pescado: \"))\n",
    "\n",
    "if limite - peso < 0:\n",
    "    excesso = abs(limite - peso)\n",
    "    multa = excesso * 4\n",
    "    print(f\"O peso excedeu em {excesso} kg o limite.\")\n",
    "    print(f\"Será aplicada uma multa de R${multa}.\")\n",
    "else:\n",
    "    print(\"O peso do pescado está dentro do limite.\")"
   ]
  },
  {
   "cell_type": "markdown",
   "metadata": {},
   "source": [
    "## 15) Faça um Programa que pergunte quanto você ganha por hora e o número de horas trabalhadas no mês. Calcule e mostre o total do seu salário no referido mês, sabendo-se que são descontados 11% para o Imposto de Renda, 8% para o INSS e 5% para o sindicato, faça um programa que nos dê:\n",
    "\n",
    "· salário bruto.\n",
    "\n",
    "· quanto pagou ao INSS.\n",
    "\n",
    "· quanto pagou ao sindicato.\n",
    "\n",
    "· o salário líquido.\n",
    "\n",
    "· calcule os descontos e o salário líquido, conforme a tabela abaixo: "
   ]
  },
  {
   "cell_type": "code",
   "execution_count": 15,
   "metadata": {},
   "outputs": [
    {
     "name": "stdout",
     "output_type": "stream",
     "text": [
      "Salário Bruto:\t\tR$1280.0\n",
      "- IR (11%):\t\tR$140.8\n",
      "- INSS (8%):\t\tR$102.4\n",
      "- Sindicato (5%):\tR$64.0\n",
      "= Salário Líquido:\tR$972.8\n"
     ]
    }
   ],
   "source": [
    "valor_hora = float(input(\"Insira o valor da hora trabalhada: \"))\n",
    "qtd_horas = float(input(\"Insira a quantidade de horas trabalhadas: \"))\n",
    "salario_mes = valor_hora * qtd_horas\n",
    "\n",
    "ir = salario_mes * 0.11\n",
    "inss = salario_mes * 0.08\n",
    "sind = salario_mes * 0.05\n",
    "print(f\"\"\"Salário Bruto:\\t\\tR${salario_mes}\n",
    "- IR (11%):\\t\\tR${ir}\n",
    "- INSS (8%):\\t\\tR${inss}\n",
    "- Sindicato (5%):\\tR${sind}\n",
    "= Salário Líquido:\\tR${salario_mes - ir - inss - sind}\"\"\")"
   ]
  },
  {
   "cell_type": "markdown",
   "metadata": {},
   "source": [
    "## 16) Faça um programa para uma loja de tintas. O programa deverá pedir o tamanho em metros quadrados da área a ser pintada. Considere que a cobertura da tinta é de 1 litro para cada 3 metros quadrados e que a tinta é vendida em latas de 18 litros, que custam R$ 80,00. Informe ao usuário a quantidades de latas de tinta a serem compradas e o preço total"
   ]
  },
  {
   "cell_type": "code",
   "execution_count": 16,
   "metadata": {},
   "outputs": [
    {
     "name": "stdout",
     "output_type": "stream",
     "text": [
      "São necesários 79.33 litros de tinta para pintar a área\n",
      "\n",
      "A quantidade mínima de latas para realizar a pintura é: \n",
      "5.0\n",
      "O custo com latas de tinta para realizar a pintura é de: \n",
      "R$400.0\n"
     ]
    }
   ],
   "source": [
    "tamanho = float(input(\"Insira o tamanho da área a ser pintada (em metros quadrados): \"))\n",
    "litros_tinta = tamanho/3\n",
    "lata = 18\n",
    "custo_lata = 80\n",
    "\n",
    "latas_total = litros_tinta // lata + (litros_tinta % lata > 0)\n",
    "custo_total = latas_total * custo_lata\n",
    "\n",
    "print(f\"São necesários {round(litros_tinta, 2)} litros de tinta para pintar a área\\n\")\n",
    "print(f\"A quantidade mínima de latas para realizar a pintura é: \\n{latas_total}\")\n",
    "print(f\"O custo com latas de tinta para realizar a pintura é de: \\nR${custo_total}\")"
   ]
  },
  {
   "cell_type": "markdown",
   "metadata": {},
   "source": [
    "## 17) Faça um Programa para uma loja de tintas. O programa deverá pedir o tamanho em metros quadrados da área a ser pintada. Considere que a cobertura da tinta é de 1 litro para cada 6 metros quadrados e que a tinta é vendida em latas de 18 litros, que custam R\\$ 80,00 ou em galões de 3,6 litros, que custam R\\$ 25,00.\n",
    "\n",
    "Informe ao usuário as quantidades de tinta a serem compradas e os respectivos preços em 3 situações:\n",
    "\n",
    "· comprar apenas latas de 18 litros;\n",
    "\n",
    "· comprar apenas galões de 3,6 litros;\n",
    "\n",
    "· misturar latas e galões, de forma que o desperdício de tinta seja menor. Acrescente 10% de folga e sempre arredonde os valores para cima, isto é, considere latas cheias"
   ]
  },
  {
   "cell_type": "code",
   "execution_count": 17,
   "metadata": {},
   "outputs": [
    {
     "name": "stdout",
     "output_type": "stream",
     "text": [
      "São necesários 39.67 litros de tinta para pintar uma área de 238.0 m²\n",
      "\n",
      "A quantidade mínima de latas para realizar a pintura é: \n",
      "3.0\n",
      "O custo com latas de tinta para realizar a pintura é de: \n",
      "R$240.0\n",
      "\n",
      "A quantidade mínima de galões para realizar a pintura é: \n",
      "12.0\n",
      "O custo com galões de tinta para realizar a pintura é de: \n",
      "R$300.0\n"
     ]
    }
   ],
   "source": [
    "\n",
    "# Situações 1 e 2\n",
    "tamanho = float(input(\"Insira o tamanho da área a ser pintada (em metros quadrados): \"))\n",
    "litros_tinta = tamanho/6\n",
    "lata = 18\n",
    "custo_lata = 80\n",
    "galao = 3.6\n",
    "custo_galao = 25\n",
    "\n",
    "latas_total = litros_tinta // lata + (litros_tinta % lata > 0)\n",
    "custo_latas_total = latas_total * custo_lata\n",
    "\n",
    "galoes_total = litros_tinta // galao + (litros_tinta % galao > 0)\n",
    "custo_galoes_total = galoes_total * custo_galao\n",
    "\n",
    "print(f\"São necesários {round(litros_tinta, 2)} litros de tinta para pintar uma área de {tamanho} m²\\n\")\n",
    "print(f\"A quantidade mínima de latas para realizar a pintura é: \\n{latas_total}\")\n",
    "print(f\"O custo com latas de tinta para realizar a pintura é de: \\nR${custo_latas_total}\")\n",
    "print()\n",
    "print(f\"A quantidade mínima de galões para realizar a pintura é: \\n{galoes_total}\")\n",
    "print(f\"O custo com galões de tinta para realizar a pintura é de: \\nR${custo_galoes_total}\")"
   ]
  },
  {
   "cell_type": "code",
   "execution_count": 3,
   "metadata": {},
   "outputs": [
    {
     "name": "stdout",
     "output_type": "stream",
     "text": [
      "Acrescendo uma folga de 10% (a menos), serão necessários 16.2 litros de tinta para pintar a área.\n",
      "==================================================\n",
      "1. UTILIZANDO APENAS LATAS\n",
      "Qtd.: \t\t1\n",
      "Custo (R$): \t80\n",
      "Desperdicio: \t1.8 litros de tinta\n",
      "\n",
      "================================================\n",
      "2. UTILIZANDO APENAS GALÕES\n",
      "Qtd.: \t\t5\n",
      "Custo (R$): \t125\n",
      "Desperdicio: \t1.8 litros de tinta\n",
      "\n",
      "================================================\n",
      "3. MISTURANDO LATAS E GALÕES\n",
      "Qtd. Galões: \t0\n",
      "Qtd. Latas: \t1\n",
      "Custo (R$): \t80\n",
      "Desperdicio: \t1.8 litros de tinta.\n",
      "\n",
      "================================================\n",
      "Para o menor desperdício de tinta, comprar somente lata é a melhor opção.\n",
      "\n"
     ]
    }
   ],
   "source": [
    "# Situação 3\n",
    "from decimal import Decimal as D\n",
    "\n",
    "class Recipiente():\n",
    "    def __init__(self, tamanho, preco):\n",
    "        self.tamanho = tamanho\n",
    "        self.preco = preco\n",
    "\n",
    "def arredondar_cima(divisor, dividendo):\n",
    "    return int(divisor // dividendo + (divisor%dividendo > 0.1e-6))  # compensando variações nas operações com ponto flutuante\n",
    "\n",
    "area = float(input(\"Insira o tamanho da área a ser pintada (em metros quadrados): \"))\n",
    "custo_tinta = (area * 0.9)/6\n",
    "lata = Recipiente(18, 80)\n",
    "galao = Recipiente(3.6, 25)\n",
    "\n",
    "quociente, resto = divmod(custo_tinta, lata.tamanho)\n",
    "\n",
    "# Somente Latas\n",
    "qtd_somente_lata = arredondar_cima(custo_tinta, lata.tamanho)\n",
    "\n",
    "# Somente galões\n",
    "qtd_somente_galao = arredondar_cima(custo_tinta, galao.tamanho)\n",
    "\n",
    "# Combinação de latas e galões\n",
    "qtd_galoes_misto = arredondar_cima(resto, galao.tamanho)\n",
    "qtd_latas_misto = int(quociente)\n",
    "\n",
    "\n",
    "desperdicio = {\n",
    "    \"somente lata\" : abs(qtd_somente_lata * lata.tamanho - custo_tinta),\n",
    "    \"somente galão\" : abs(qtd_somente_galao * galao.tamanho - custo_tinta),\n",
    "    \"combinação de latas e galões\" : abs((qtd_latas_misto * lata.tamanho) + (qtd_galoes_misto * galao.tamanho) - custo_tinta)\n",
    "}\n",
    "menor_desperdicio = min(desperdicio, key=desperdicio.get)\n",
    "\n",
    "# Checando se a litragem da lata é divisivel em galoes. É o mesmo que lata.tamanho % galao.tamanho == 0 que estava apresentando erros de divisao por float.\n",
    "# Se o tamanho da lata puder ser dividido em galões, substituir o resultado em galões por uma lata a cada n galões.\n",
    "if D(str(lata.tamanho)) % D(str(galao.tamanho)) == 0:    \n",
    "    n = lata.tamanho / galao.tamanho\n",
    "    if qtd_galoes_misto % n == 0:\n",
    "        qtd_latas_misto = int(qtd_galoes_misto / n)\n",
    "        qtd_galoes_misto -= int(qtd_latas_misto * n)\n",
    "# Caso o volume da lata não for exatamente divisível em galões, escolher a opção de menor desperdicio\n",
    "else:\n",
    "    em_latas, sobra_latas = divmod(custo_tinta, lata.tamanho)\n",
    "    desperdicio_combinacao = abs(em_latas * lata.tamanho + (arredondar_cima(sobra_latas, galao.tamanho)) * galao.tamanho - custo_tinta)\n",
    "    em_gals, sobra_gals = divmod(custo_tinta, galao.tamanho)\n",
    "    desperdicio_somente_galoes = abs(em_gals * galao.tamanho + (arredondar_cima(sobra_gals, galao.tamanho)) * galao.tamanho - custo_tinta)\n",
    "    desperdicio_somente_latas = arredondar_cima(custo_tinta, lata.tamanho) * lata.tamanho - custo_tinta\n",
    "    desperdicio = {\n",
    "    \"somente lata\" : desperdicio_somente_latas,\n",
    "    \"somente galão\" : desperdicio_somente_galoes,\n",
    "    \"combinação de latas e galões\" : desperdicio_combinacao\n",
    "    }\n",
    "    menor_desperdicio = min(desperdicio, key=desperdicio.get)\n",
    "    if menor_desperdicio == 'somente lata':\n",
    "        qtd_latas_misto = arredondar_cima(custo_tinta, lata.tamanho)\n",
    "        qtd_galoes_misto = 0\n",
    "        desperdicio[\"combinação de latas e galões\"] = desperdicio_somente_latas\n",
    "\n",
    "print(f\"\"\"Acrescendo uma folga de 10% (a menos), serão necessários {custo_tinta} litros de tinta para pintar a área.\n",
    "==================================================\n",
    "1. UTILIZANDO APENAS LATAS\n",
    "Qtd.: \\t\\t{qtd_somente_lata}\n",
    "Custo (R$): \\t{lata.preco * qtd_somente_lata}\n",
    "Desperdicio: \\t{round(desperdicio['somente lata'],2)} litros de tinta\n",
    "\n",
    "================================================\n",
    "2. UTILIZANDO APENAS GALÕES\n",
    "Qtd.: \\t\\t{qtd_somente_galao}\n",
    "Custo (R$): \\t{galao.preco * qtd_somente_galao}\n",
    "Desperdicio: \\t{round(desperdicio['somente galão'],2)} litros de tinta\n",
    "\n",
    "================================================\n",
    "3. MISTURANDO LATAS E GALÕES\n",
    "Qtd. Galões: \\t{qtd_galoes_misto}\n",
    "Qtd. Latas: \\t{qtd_latas_misto}\n",
    "Custo (R$): \\t{(qtd_galoes_misto * galao.preco) + (qtd_latas_misto * lata.preco)}\n",
    "Desperdicio: \\t{round(desperdicio['combinação de latas e galões'],2)} litros de tinta.\n",
    "\n",
    "================================================\n",
    "Para o menor desperdício de tinta, comprar {menor_desperdicio} é a melhor opção.\n",
    "\"\"\")"
   ]
  },
  {
   "cell_type": "markdown",
   "metadata": {},
   "source": [
    "## 18) Faça um programa que peça o tamanho de um arquivo para download (em MB) e a velocidade de um link de Internet (em Mbps), calcule e informe o tempo aproximado de download do arquivo usando este link (em minutos)"
   ]
  },
  {
   "cell_type": "code",
   "execution_count": null,
   "metadata": {},
   "outputs": [
    {
     "name": "stdout",
     "output_type": "stream",
     "text": [
      "O download de 400.0 MB a 5.0 Mb/s será finalizado em 10.67 minutos, ou  10 minutos e 40 segundos.\n"
     ]
    }
   ],
   "source": [
    "tamanho_arquivo = float(input(\"Insira o tamanho do arquivo (em MB): \"))\n",
    "velocidade = float(input(\"Insira a velocidade do link de internet (em Mbps): \"))\n",
    "tempo_download = (tamanho_arquivo*8 / velocidade) /60\n",
    "tempo_download_min, tempo_download_sec = divmod(((tamanho_arquivo*8) / velocidade), 60)\n",
    "print(f\"O download de {tamanho_arquivo} MB a {velocidade} Mb/s será finalizado em {round(tempo_download, 2)} minutos, ou {int(tempo_download_min)} minutos e {int(tempo_download_sec)} segundos.\")"
   ]
  }
 ],
 "metadata": {
  "kernelspec": {
   "display_name": "Python 3.9.7 ('base')",
   "language": "python",
   "name": "python3"
  },
  "language_info": {
   "codemirror_mode": {
    "name": "ipython",
    "version": 3
   },
   "file_extension": ".py",
   "mimetype": "text/x-python",
   "name": "python",
   "nbconvert_exporter": "python",
   "pygments_lexer": "ipython3",
   "version": "3.9.7"
  },
  "orig_nbformat": 4,
  "vscode": {
   "interpreter": {
    "hash": "88279d2366fe020547cde40dd65aa0e3aa662a6ec1f3ca12d88834876c85e1a6"
   }
  }
 },
 "nbformat": 4,
 "nbformat_minor": 2
}
