{
 "cells": [
  {
   "cell_type": "markdown",
   "metadata": {},
   "source": [
    "## Desafio: Caixeiro-viajante"
   ]
  },
  {
   "cell_type": "code",
   "execution_count": 1,
   "metadata": {},
   "outputs": [],
   "source": [
    "from itertools import combinations, permutations\n",
    "import numpy as np"
   ]
  },
  {
   "cell_type": "code",
   "execution_count": 35,
   "metadata": {},
   "outputs": [
    {
     "name": "stdout",
     "output_type": "stream",
     "text": [
      "[[0 3 5]\n",
      " [3 0 7]\n",
      " [5 7 0]]\n"
     ]
    }
   ],
   "source": [
    "N = int(input(\"Insira o numero de cidades a serem visitadas\"))\n",
    "cidades = range(1, N+1)\n",
    "\n",
    "# Gerando uma lista com os trechos possíveis, sem repetição\n",
    "arestas = tuple(combinations(cidades, 2))\n",
    "# print(arestas)\n",
    "adj = np.zeros((N,N), dtype=int)\n",
    "\n",
    "for aresta in arestas:\n",
    "    linha = aresta[0]\n",
    "    coluna = aresta[1]\n",
    "    peso = int(input(f'Insira a distância entre {linha} e {coluna}'))\n",
    "    # peso = random.randint(1,10)\n",
    "    adj[linha-1][coluna-1] = peso\n",
    "    adj[coluna-1][linha-1] = peso\n",
    "\n",
    "print(adj)"
   ]
  },
  {
   "cell_type": "markdown",
   "metadata": {},
   "source": [
    "### Zona de Testes"
   ]
  },
  {
   "cell_type": "code",
   "execution_count": 36,
   "metadata": {},
   "outputs": [
    {
     "name": "stdout",
     "output_type": "stream",
     "text": [
      "[[0 3 5]\n",
      " [0 0 7]\n",
      " [0 0 0]]\n"
     ]
    }
   ],
   "source": [
    "# Transforma a matriz de adjacencia em uma matriz triangular para desconsiderar os pesos duplicados e. g. 1 -> 2 == 2 -> 1\n",
    "adjTriangular = np.triu(adj)\n",
    "# Criando um vetor de zeros para catalogar os vértices visitados\n",
    "seVisita = np.zeros((N), dtype=bool)\n",
    "print(adjTriangular)"
   ]
  },
  {
   "cell_type": "code",
   "execution_count": 33,
   "metadata": {},
   "outputs": [
    {
     "name": "stdout",
     "output_type": "stream",
     "text": [
      "(array([1], dtype=int64), array([2], dtype=int64))\n",
      "1\n",
      "2\n",
      "[0 0 0]\n",
      "(array([0, 0, 0, 1, 1, 1, 2, 2, 2], dtype=int64), array([0, 1, 2, 0, 1, 2, 0, 1, 2], dtype=int64))\n"
     ]
    }
   ],
   "source": [
    "# Encontra o menor peso na matriz de adjacência, desconsiderando os zeros\n",
    "minPeso = np.min(adjTriangular[np.nonzero(adjTriangular)])\n",
    "# Retorna os indexes onde o valor do elemento é igual ao mínimo (podendo ser mais de 1. e.g. min = 3, existem 2 elementos 3 na matriz)\n",
    "minPesoIndex = np.nonzero(adjTriangular==minPeso)\n",
    "\n",
    "print(minPesoIndex)\n",
    "# Atualizando o catalogo de vértices visitados\n",
    "seVisita[minPesoIndex[0][0]] = True\n",
    "seVisita[minPesoIndex[1][0]] = True\n",
    "borda1 = minPesoIndex[0][0]\n",
    "borda2 = minPesoIndex[1][0]\n",
    "# arvore = \n",
    "\n",
    "# Retorna o index das cidades visitadas\n",
    "visitados = np.nonzero(seVisita)\n",
    "# Retorna o index das cidades não visitadas\n",
    "naoVisitados = np.where(seVisita == 0)\n",
    "\n",
    "# Zerando o menor valor já adicionado para não ser computado outra vez\n",
    "adjTriangular[borda1][borda2] = 0\n",
    "\n",
    "# Descobrindo qual vértice da árvore está ligado a próxima aresta de menor grau\n",
    "menorBorda = np.minimum(adjTriangular[borda1], adjTriangular[borda2])\n",
    "\n",
    "print(borda1)\n",
    "print(borda2)\n",
    "print(menorBorda)\n",
    "print(np.nonzero(adjTriangular==menorBorda))"
   ]
  },
  {
   "cell_type": "code",
   "execution_count": 40,
   "metadata": {},
   "outputs": [
    {
     "name": "stdout",
     "output_type": "stream",
     "text": [
      "[0 0 0]\n"
     ]
    }
   ],
   "source": [
    "print(adjTriangular[borda2])\n"
   ]
  },
  {
   "cell_type": "code",
   "execution_count": 14,
   "metadata": {},
   "outputs": [
    {
     "name": "stdout",
     "output_type": "stream",
     "text": [
      "Existem 3.1691265005705735e+29 soluções possíveis\n"
     ]
    }
   ],
   "source": [
    "# Quantidade de soluções possíveis\n",
    "n = int(input('Insira o numero de cidades: '))\n",
    "if n == 1:\n",
    "    print(1)\n",
    "else:\n",
    "    print(f'Existem {(2**(n-1))/2} soluções possíveis')"
   ]
  },
  {
   "cell_type": "code",
   "execution_count": 34,
   "metadata": {},
   "outputs": [
    {
     "name": "stdout",
     "output_type": "stream",
     "text": [
      "Tempo decorrido via NumPy: 0.4135279655456543s\n",
      "Tempo decorrido via looping: 22.75102472305298s\n"
     ]
    }
   ],
   "source": [
    "from time import time\n",
    "\n",
    "# Nmax = 28\n",
    "N = 25\n",
    "# N = int(input('Insira o número de cidades: '))\n",
    "\n",
    "start = time()\n",
    "A = np.arange(1,N+1, dtype=np.int8)\n",
    "B = A.copy()\n",
    "for i in np.arange(1, A.size, dtype=np.int8):\n",
    "    B = A.copy()\n",
    "    B.T[[0,i]] = B.T[[i,0]]\n",
    "    A = np.vstack((A, B))\n",
    "end = time()\n",
    "print(f'Tempo decorrido via NumPy: {end-start} s')\n",
    "\n",
    "start2 = time()\n",
    "lista = [i for i in range(1, N+1)]\n",
    "casos = [lista]\n",
    "for i in range(2, len(lista)+1):\n",
    "    for j in range(len(casos)):\n",
    "        x = casos[j].copy()\n",
    "        x.remove(i)\n",
    "        x.insert(0,i)\n",
    "        casos.append(x)\n",
    "end2 = time()\n",
    "print(f'Tempo decorrido via looping: {end2-start2} s')"
   ]
  }
 ],
 "metadata": {
  "kernelspec": {
   "display_name": "Python 3.9.7 ('base')",
   "language": "python",
   "name": "python3"
  },
  "language_info": {
   "codemirror_mode": {
    "name": "ipython",
    "version": 3
   },
   "file_extension": ".py",
   "mimetype": "text/x-python",
   "name": "python",
   "nbconvert_exporter": "python",
   "pygments_lexer": "ipython3",
   "version": "3.9.7"
  },
  "orig_nbformat": 4,
  "vscode": {
   "interpreter": {
    "hash": "88279d2366fe020547cde40dd65aa0e3aa662a6ec1f3ca12d88834876c85e1a6"
   }
  }
 },
 "nbformat": 4,
 "nbformat_minor": 2
}
