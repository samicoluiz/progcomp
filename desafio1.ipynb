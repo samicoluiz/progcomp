{
 "cells": [
  {
   "cell_type": "markdown",
   "metadata": {},
   "source": [
    "## Desafio: Caixeiro-viajante"
   ]
  },
  {
   "cell_type": "code",
   "execution_count": 3,
   "metadata": {},
   "outputs": [],
   "source": [
    "from itertools import combinations, permutations\n",
    "import numpy as np"
   ]
  },
  {
   "cell_type": "code",
   "execution_count": 65,
   "metadata": {},
   "outputs": [
    {
     "name": "stdout",
     "output_type": "stream",
     "text": [
      "[[0 3 3]\n",
      " [3 0 5]\n",
      " [3 5 0]]\n"
     ]
    }
   ],
   "source": [
    "N = int(input(\"Insira o numero de cidades a serem visitadas\"))\n",
    "cidades = range(1, N+1)\n",
    "\n",
    "# Gerando uma lista com os trechos possíveis, sem repetição\n",
    "arestas = tuple(combinations(cidades, 2))\n",
    "# print(arestas)\n",
    "adj = np.zeros((N,N), dtype=int)\n",
    "\n",
    "for aresta in arestas:\n",
    "    linha = aresta[0]\n",
    "    coluna = aresta[1]\n",
    "    peso = int(input(f'Insira a distância entre {linha} e {coluna}'))\n",
    "    # peso = random.randint(1,10)\n",
    "    adj[linha-1][coluna-1] = peso\n",
    "    adj[coluna-1][linha-1] = peso\n",
    "\n",
    "print(adj)"
   ]
  },
  {
   "cell_type": "markdown",
   "metadata": {},
   "source": [
    "### Zona de Testes"
   ]
  },
  {
   "cell_type": "code",
   "execution_count": null,
   "metadata": {},
   "outputs": [],
   "source": [
    "# import random\n",
    "# tentando criar uma matriz de adjacencia\n",
    "adj = np.zeros((N,N), dtype=int)\n",
    "\n",
    "for edge in edges:\n",
    "    linha = edge[0]\n",
    "    coluna = edge[1]\n",
    "    peso = int(input(f'Insira a distância entre {linha} e {coluna}'))\n",
    "    # peso = random.randint(1,10)\n",
    "    adj[linha-1][coluna-1] = peso\n",
    "    adj[coluna-1][linha-1] = peso\n",
    "\n",
    "print(adj)"
   ]
  },
  {
   "cell_type": "code",
   "execution_count": 76,
   "metadata": {},
   "outputs": [
    {
     "name": "stdout",
     "output_type": "stream",
     "text": [
      "[[0 3 3]\n",
      " [0 0 5]\n",
      " [0 0 0]]\n",
      "[False False False]\n"
     ]
    }
   ],
   "source": [
    "# Transforma a matriz de adjacencia em uma matriz triangular para desconsiderar os pesos duplicados e. g. 1 -> 2 == 2 -> 1\n",
    "adjTriangular = np.triu(adj)\n",
    "# Criando um vetor de zeros para catalogar os vértices visitados\n",
    "seVisita = np.zeros((N), dtype=bool)"
   ]
  },
  {
   "cell_type": "code",
   "execution_count": 77,
   "metadata": {},
   "outputs": [
    {
     "name": "stdout",
     "output_type": "stream",
     "text": [
      "(array([0, 0], dtype=int64), array([1, 2], dtype=int64))\n"
     ]
    }
   ],
   "source": [
    "# Encontra o menor peso na matriz de adjacência, desconsiderando os zeros\n",
    "minPeso = np.min(adjTriangular[np.nonzero(adjTriangular)])\n",
    "# Retorna os indexes onde o valor do elemento é igual ao mínimo (podendo ser mais de 1. e.g. min = 3, existem 2 elementos 3 na matriz)\n",
    "minPesoIndex = np.nonzero(adjTriangular==minPeso)\n",
    "# Atualizando o catalogo de vértices visitados\n",
    "seVisita[minPesoIndex[0][0]] = True\n",
    "seVisita[minPesoIndex[1][0]] = True\n",
    "\n",
    "# Retorna o index das cidades visitadas\n",
    "Visitados = np.nonzero(seVisita)\n",
    "# Retorna o index das cidades não visitadas\n",
    "naoVisitados = np.where(seVisita == 0)\n",
    "\n",
    "minPeso = np.min(adjTriangular[np.nonzero(adjTriangular)])\n",
    "minPesoIndex = np.nonzero(adjTriangular==3)"
   ]
  },
  {
   "cell_type": "code",
   "execution_count": null,
   "metadata": {},
   "outputs": [],
   "source": [
    "while np.isin(0, seVisita):\n",
    "    "
   ]
  },
  {
   "cell_type": "code",
   "execution_count": null,
   "metadata": {},
   "outputs": [],
   "source": []
  }
 ],
 "metadata": {
  "kernelspec": {
   "display_name": "Python 3.9.7 ('base')",
   "language": "python",
   "name": "python3"
  },
  "language_info": {
   "codemirror_mode": {
    "name": "ipython",
    "version": 3
   },
   "file_extension": ".py",
   "mimetype": "text/x-python",
   "name": "python",
   "nbconvert_exporter": "python",
   "pygments_lexer": "ipython3",
   "version": "3.9.7"
  },
  "orig_nbformat": 4,
  "vscode": {
   "interpreter": {
    "hash": "88279d2366fe020547cde40dd65aa0e3aa662a6ec1f3ca12d88834876c85e1a6"
   }
  }
 },
 "nbformat": 4,
 "nbformat_minor": 2
}
