{
 "cells": [
  {
   "cell_type": "code",
   "execution_count": 49,
   "metadata": {
    "collapsed": true
   },
   "outputs": [],
   "source": [
    "import pandas as pd\n",
    "import glob\n"
   ]
  },
  {
   "cell_type": "code",
   "execution_count": 56,
   "outputs": [],
   "source": [
    "siglas = [\"CBO\", \"LCO\", \"LOC\", \"WMC\"]"
   ],
   "metadata": {
    "collapsed": false
   }
  },
  {
   "cell_type": "code",
   "execution_count": 57,
   "outputs": [],
   "source": [
    "def create_serie_temporal(metrica: str) -> pd.DataFrame:\n",
    "    \"\"\"Recebe a sigla de uma das métricas utilizadas e combina todos os arquivos relacionados para montar uma série temporal\"\"\"\n",
    "    dados = []\n",
    "\n",
    "    def normalizar_2010_2011() -> None:\n",
    "        # Aparentemente para os anos de 2010 e 2011 a coluna dos índices segue uma convenção diferente para os nomes,\n",
    "        # o código abaixo normaliza estes nomes segundo o padrão observado nos dataframes para os anos posteriores.\n",
    "        for i in dados[:2]:\n",
    "            i[\"COL1\"] = i[\"COL1\"].str.replace(\"org.springframework.\", \"spring-\", regex=False)\n",
    "\n",
    "    for csv in glob.iglob(f\"D:\\OneDrive\\Documentos\\ciencia_da_computacao\\segundo_semestre\\programacao_de_computadores\\desafio_pandas2\\spring-framework\\{metrica}*.csv\"):\n",
    "        temp_df = pd.read_csv(csv)\n",
    "        dados.append(temp_df)\n",
    "\n",
    "    normalizar_2010_2011()    # Comentar esta linha caso esse paso seja desnecessário\n",
    "\n",
    "    serie_temporal_metrica = pd.concat(dados)\n",
    "    serie_temporal_metrica = serie_temporal_metrica.groupby(serie_temporal_metrica[\"COL1\"]).sum()\n",
    "    return serie_temporal_metrica\n"
   ],
   "metadata": {
    "collapsed": false
   }
  },
  {
   "cell_type": "code",
   "execution_count": 58,
   "outputs": [],
   "source": [
    "solucao = [create_serie_temporal(metrica) for metrica in siglas]"
   ],
   "metadata": {
    "collapsed": false
   }
  }
 ],
 "metadata": {
  "kernelspec": {
   "display_name": "Python 3",
   "language": "python",
   "name": "python3"
  },
  "language_info": {
   "codemirror_mode": {
    "name": "ipython",
    "version": 2
   },
   "file_extension": ".py",
   "mimetype": "text/x-python",
   "name": "python",
   "nbconvert_exporter": "python",
   "pygments_lexer": "ipython2",
   "version": "2.7.6"
  }
 },
 "nbformat": 4,
 "nbformat_minor": 0
}
